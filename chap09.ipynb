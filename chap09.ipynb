{
  "cells": [
    {
      "cell_type": "markdown",
      "metadata": {
        "id": "view-in-github",
        "colab_type": "text"
      },
      "source": [
        "<a href=\"https://colab.research.google.com/github/gcdamazio/PythonWeekOne/blob/main/chap09.ipynb\" target=\"_parent\"><img src=\"https://colab.research.google.com/assets/colab-badge.svg\" alt=\"Open In Colab\"/></a>"
      ]
    },
    {
      "cell_type": "code",
      "execution_count": null,
      "metadata": {
        "tags": [],
        "outputId": "4ff82cc9-6bd7-498e-fe35-a2c4b64759ad",
        "colab": {
          "base_uri": "https://localhost:8080/"
        },
        "id": "d4sMsVRg60ti"
      },
      "outputs": [
        {
          "output_type": "stream",
          "name": "stdout",
          "text": [
            "**********************************************************************\n",
            "File \"__main__\", line 4, in reverse_sentence\n",
            "Failed example:\n",
            "    reverse_sentence('Reverse this sentence')\n",
            "Expected:\n",
            "    'Sentence this reverse'\n",
            "Got:\n",
            "    'Sentence this Reverse'\n",
            "**********************************************************************\n",
            "File \"__main__\", line 13, in reverse_sentence\n",
            "Failed example:\n",
            "    reverse_sentence('One for all and all for one')\n",
            "Expected:\n",
            "    'One for all and all for one'\n",
            "Got:\n",
            "    'One for all and all for One'\n"
          ]
        }
      ],
      "source": [
        "run_doctests(reverse_sentence)"
      ],
      "id": "d4sMsVRg60ti"
    },
    {
      "cell_type": "markdown",
      "id": "1331faa1",
      "metadata": {
        "id": "1331faa1"
      },
      "source": [
        "You can order print and ebook versions of *Think Python 3e* from\n",
        "[Bookshop.org](https://bookshop.org/a/98697/9781098155438) and\n",
        "[Amazon](https://www.amazon.com/_/dp/1098155432?smid=ATVPDKIKX0DER&_encoding=UTF8&tag=oreilly20-20&_encoding=UTF8&tag=greenteapre01-20&linkCode=ur2&linkId=e2a529f94920295d27ec8a06e757dc7c&camp=1789&creative=9325)."
      ]
    },
    {
      "cell_type": "code",
      "execution_count": null,
      "id": "bde1c3f9",
      "metadata": {
        "tags": [],
        "colab": {
          "base_uri": "https://localhost:8080/"
        },
        "id": "bde1c3f9",
        "outputId": "d2d3815e-51f2-4e3e-e5d4-37258e45eab6"
      },
      "outputs": [
        {
          "output_type": "stream",
          "name": "stdout",
          "text": [
            "Downloaded thinkpython.py\n",
            "Downloaded diagram.py\n"
          ]
        }
      ],
      "source": [
        "from os.path import basename, exists\n",
        "\n",
        "def download(url):\n",
        "    filename = basename(url)\n",
        "    if not exists(filename):\n",
        "        from urllib.request import urlretrieve\n",
        "\n",
        "        local, _ = urlretrieve(url, filename)\n",
        "        print(\"Downloaded \" + str(local))\n",
        "    return filename\n",
        "\n",
        "download('https://github.com/AllenDowney/ThinkPython/raw/v3/thinkpython.py');\n",
        "download('https://github.com/AllenDowney/ThinkPython/raw/v3/diagram.py');\n",
        "\n",
        "import thinkpython"
      ]
    },
    {
      "cell_type": "markdown",
      "id": "3c25ca7e",
      "metadata": {
        "id": "3c25ca7e"
      },
      "source": [
        "# Lists\n",
        "\n",
        "This chapter presents one of Python's most useful built-in types, lists.\n",
        "You will also learn more about objects and what can happen when multiple variables refer to the same object.\n",
        "\n",
        "In the exercises at the end of the chapter, we'll make a word list and use it to search for special words like palindromes and anagrams."
      ]
    },
    {
      "cell_type": "markdown",
      "id": "4d32b3e2",
      "metadata": {
        "id": "4d32b3e2"
      },
      "source": [
        "## A list is a sequence\n",
        "\n",
        "Like a string, a **list** is a sequence of values. In a string, the\n",
        "values are characters; in a list, they can be any type.\n",
        "The values in a list are called **elements**.\n",
        "\n",
        "There are several ways to create a new list; the simplest is to enclose the elements in square brackets (`[` and `]`).\n",
        "For example, here is a list of two integers."
      ]
    },
    {
      "cell_type": "code",
      "execution_count": null,
      "id": "a16a119b",
      "metadata": {
        "id": "a16a119b"
      },
      "outputs": [],
      "source": [
        "numbers = [42, 123]"
      ]
    },
    {
      "cell_type": "markdown",
      "id": "b5d6112c",
      "metadata": {
        "id": "b5d6112c"
      },
      "source": [
        "And here's a list of three strings."
      ]
    },
    {
      "cell_type": "code",
      "execution_count": null,
      "id": "ac7a4a0b",
      "metadata": {
        "id": "ac7a4a0b"
      },
      "outputs": [],
      "source": [
        "cheeses = ['Cheddar', 'Edam', 'Gouda']"
      ]
    },
    {
      "cell_type": "markdown",
      "id": "dda58c67",
      "metadata": {
        "id": "dda58c67"
      },
      "source": [
        "The elements of a list don't have to be the same type.\n",
        "The following list contains a string, a float, an integer, and even another list."
      ]
    },
    {
      "cell_type": "code",
      "execution_count": null,
      "id": "18fb0e21",
      "metadata": {
        "id": "18fb0e21"
      },
      "outputs": [],
      "source": [
        "t = ['spam', 2.0, 5, [10, 20]]"
      ]
    },
    {
      "cell_type": "markdown",
      "id": "147fa217",
      "metadata": {
        "id": "147fa217"
      },
      "source": [
        "A list within another list is **nested**.\n",
        "\n",
        "A list that contains no elements is called an empty list; you can create\n",
        "one with empty brackets, `[]`."
      ]
    },
    {
      "cell_type": "code",
      "execution_count": null,
      "id": "0ff58916",
      "metadata": {
        "id": "0ff58916"
      },
      "outputs": [],
      "source": [
        "empty = []"
      ]
    },
    {
      "cell_type": "markdown",
      "id": "f95381bc",
      "metadata": {
        "id": "f95381bc"
      },
      "source": [
        "The `len` function returns the length of a list."
      ]
    },
    {
      "cell_type": "code",
      "execution_count": null,
      "id": "f3153f36",
      "metadata": {
        "colab": {
          "base_uri": "https://localhost:8080/"
        },
        "id": "f3153f36",
        "outputId": "4976a34e-0b24-495c-f6f7-aec44f869387"
      },
      "outputs": [
        {
          "output_type": "execute_result",
          "data": {
            "text/plain": [
              "3"
            ]
          },
          "metadata": {},
          "execution_count": 6
        }
      ],
      "source": [
        "len(cheeses)"
      ]
    },
    {
      "cell_type": "markdown",
      "id": "371403a3",
      "metadata": {
        "id": "371403a3"
      },
      "source": [
        "The length of an empty list is `0`."
      ]
    },
    {
      "cell_type": "code",
      "execution_count": null,
      "id": "58727d35",
      "metadata": {
        "tags": [],
        "colab": {
          "base_uri": "https://localhost:8080/"
        },
        "id": "58727d35",
        "outputId": "f63b066d-cae6-4d24-b5f0-75bf693668da"
      },
      "outputs": [
        {
          "output_type": "execute_result",
          "data": {
            "text/plain": [
              "0"
            ]
          },
          "metadata": {},
          "execution_count": 7
        }
      ],
      "source": [
        "len(empty)"
      ]
    },
    {
      "cell_type": "markdown",
      "id": "d3589a5d",
      "metadata": {
        "id": "d3589a5d"
      },
      "source": [
        "The following figure shows the state diagram for `cheeses`, `numbers` and `empty`."
      ]
    },
    {
      "cell_type": "code",
      "execution_count": null,
      "id": "25582cad",
      "metadata": {
        "tags": [],
        "id": "25582cad"
      },
      "outputs": [],
      "source": [
        "from diagram import make_list, Binding, Value\n",
        "\n",
        "list1 = make_list(cheeses, dy=-0.3, offsetx=0.17)\n",
        "binding1 = Binding(Value('cheeses'), list1)\n",
        "\n",
        "list2 = make_list(numbers, dy=-0.3, offsetx=0.17)\n",
        "binding2 = Binding(Value('numbers'), list2)\n",
        "\n",
        "list3 = make_list(empty, dy=-0.3, offsetx=0.1)\n",
        "binding3 = Binding(Value('empty'), list3)"
      ]
    },
    {
      "cell_type": "code",
      "execution_count": null,
      "id": "925c7d67",
      "metadata": {
        "tags": [],
        "colab": {
          "base_uri": "https://localhost:8080/",
          "height": 195
        },
        "id": "925c7d67",
        "outputId": "92149ba8-d8b2-489b-b0ca-860bce2ccdb0"
      },
      "outputs": [
        {
          "output_type": "display_data",
          "data": {
            "text/plain": [
              "<Figure size 366x158 with 1 Axes>"
            ],
            "image/png": "[encoded data removed]"
          },
          "metadata": {}
        }
      ],
      "source": [
        "from diagram import diagram, adjust, Bbox\n",
        "\n",
        "width, height, x, y = [3.66, 1.58, 0.45, 1.2]\n",
        "ax = diagram(width, height)\n",
        "bbox1 = binding1.draw(ax, x, y)\n",
        "bbox2 = binding2.draw(ax, x+2.25, y)\n",
        "bbox3 = binding3.draw(ax, x+2.25, y-1.0)\n",
        "\n",
        "bbox = Bbox.union([bbox1, bbox2, bbox3])\n",
        "#adjust(x, y, bbox)"
      ]
    },
    {
      "cell_type": "markdown",
      "id": "503f25d8",
      "metadata": {
        "id": "503f25d8"
      },
      "source": [
        "Lists are represented by boxes with the word \"list\" outside and the numbered elements of the list inside."
      ]
    },
    {
      "cell_type": "markdown",
      "id": "e0b8ff01",
      "metadata": {
        "id": "e0b8ff01"
      },
      "source": [
        "## Lists are mutable\n",
        "\n",
        "To read an element of a list, we can use the bracket operator.\n",
        "The index of the first element is `0`."
      ]
    },
    {
      "cell_type": "code",
      "execution_count": null,
      "id": "9deb85a3",
      "metadata": {
        "colab": {
          "base_uri": "https://localhost:8080/",
          "height": 35
        },
        "id": "9deb85a3",
        "outputId": "5a2518fd-3c2a-4bfa-8254-c865da353465"
      },
      "outputs": [
        {
          "output_type": "execute_result",
          "data": {
            "text/plain": [
              "'Cheddar'"
            ],
            "application/vnd.google.colaboratory.intrinsic+json": {
              "type": "string"
            }
          },
          "metadata": {},
          "execution_count": 10
        }
      ],
      "source": [
        "cheeses[0]"
      ]
    },
    {
      "cell_type": "markdown",
      "id": "9747e951",
      "metadata": {
        "id": "9747e951"
      },
      "source": [
        "Unlike strings, lists are mutable. When the bracket operator appears on\n",
        "the left side of an assignment, it identifies the element of the list\n",
        "that will be assigned."
      ]
    },
    {
      "cell_type": "code",
      "execution_count": null,
      "id": "98ec5d9c",
      "metadata": {
        "colab": {
          "base_uri": "https://localhost:8080/"
        },
        "id": "98ec5d9c",
        "outputId": "5f0fb397-dc9c-40c6-b927-9aa1badca747"
      },
      "outputs": [
        {
          "output_type": "execute_result",
          "data": {
            "text/plain": [
              "[42, 17]"
            ]
          },
          "metadata": {},
          "execution_count": 11
        }
      ],
      "source": [
        "numbers[1] = 17\n",
        "numbers"
      ]
    },
    {
      "cell_type": "markdown",
      "id": "5097a517",
      "metadata": {
        "id": "5097a517"
      },
      "source": [
        "The second element of `numbers`, which used to be `123`, is now `17`.\n",
        "\n",
        "List indices work the same way as string indices:\n",
        "\n",
        "-   Any integer expression can be used as an index.\n",
        "\n",
        "-   If you try to read or write an element that does not exist, you get\n",
        "    an `IndexError`.\n",
        "\n",
        "-   If an index has a negative value, it counts backward from the end of\n",
        "    the list.\n",
        "\n",
        "The `in` operator works on lists -- it checks whether a given element appears anywhere in the list."
      ]
    },
    {
      "cell_type": "code",
      "execution_count": null,
      "id": "000aed26",
      "metadata": {
        "colab": {
          "base_uri": "https://localhost:8080/"
        },
        "id": "000aed26",
        "outputId": "09dcbbbc-cb65-4f49-9eb5-d25f6297407f"
      },
      "outputs": [
        {
          "output_type": "execute_result",
          "data": {
            "text/plain": [
              "True"
            ]
          },
          "metadata": {},
          "execution_count": 12
        }
      ],
      "source": [
        "'Edam' in cheeses"
      ]
    },
    {
      "cell_type": "code",
      "execution_count": null,
      "id": "bcb8929c",
      "metadata": {
        "colab": {
          "base_uri": "https://localhost:8080/"
        },
        "id": "bcb8929c",
        "outputId": "f84bc0f4-6e7e-4294-fa80-2860f32f8c3d"
      },
      "outputs": [
        {
          "output_type": "execute_result",
          "data": {
            "text/plain": [
              "False"
            ]
          },
          "metadata": {},
          "execution_count": 13
        }
      ],
      "source": [
        "'Wensleydale' in cheeses"
      ]
    },
    {
      "cell_type": "markdown",
      "id": "89d01ebf",
      "metadata": {
        "id": "89d01ebf"
      },
      "source": [
        "Although a list can contain another list, the nested list still counts as a single element -- so in the following list, there are only four elements."
      ]
    },
    {
      "cell_type": "code",
      "execution_count": null,
      "id": "5ad51a26",
      "metadata": {
        "colab": {
          "base_uri": "https://localhost:8080/"
        },
        "id": "5ad51a26",
        "outputId": "ae63f988-4843-4e9b-e5c4-604d7840bd15"
      },
      "outputs": [
        {
          "output_type": "execute_result",
          "data": {
            "text/plain": [
              "4"
            ]
          },
          "metadata": {},
          "execution_count": 14
        }
      ],
      "source": [
        "t = ['spam', 2.0, 5, [10, 20]]\n",
        "len(t)"
      ]
    },
    {
      "cell_type": "markdown",
      "id": "4e0ea41d",
      "metadata": {
        "id": "4e0ea41d"
      },
      "source": [
        "And `10` is not considered to be an element of `t` because it is an element of a nested list, not `t`."
      ]
    },
    {
      "cell_type": "code",
      "execution_count": null,
      "id": "156dbc10",
      "metadata": {
        "colab": {
          "base_uri": "https://localhost:8080/"
        },
        "id": "156dbc10",
        "outputId": "fda0dbfb-40f1-4499-c930-9075224a3517"
      },
      "outputs": [
        {
          "output_type": "execute_result",
          "data": {
            "text/plain": [
              "False"
            ]
          },
          "metadata": {},
          "execution_count": 15
        }
      ],
      "source": [
        "10 in t"
      ]
    },
    {
      "cell_type": "markdown",
      "id": "1ee7a4d9",
      "metadata": {
        "id": "1ee7a4d9"
      },
      "source": [
        "## List slices\n",
        "\n",
        "The slice operator works on lists the same way it works on strings.\n",
        "The following example selects the second and third elements from a list of four letters."
      ]
    },
    {
      "cell_type": "code",
      "execution_count": null,
      "id": "70b16371",
      "metadata": {
        "colab": {
          "base_uri": "https://localhost:8080/"
        },
        "id": "70b16371",
        "outputId": "2e0557b4-9492-468b-ffca-5c392f06d9dd"
      },
      "outputs": [
        {
          "output_type": "execute_result",
          "data": {
            "text/plain": [
              "['b', 'c']"
            ]
          },
          "metadata": {},
          "execution_count": 16
        }
      ],
      "source": [
        "letters = ['a', 'b', 'c', 'd']\n",
        "letters[1:3]"
      ]
    },
    {
      "cell_type": "markdown",
      "id": "bc59d952",
      "metadata": {
        "id": "bc59d952"
      },
      "source": [
        "If you omit the first index, the slice starts at the beginning."
      ]
    },
    {
      "cell_type": "code",
      "execution_count": null,
      "id": "e67bab33",
      "metadata": {
        "colab": {
          "base_uri": "https://localhost:8080/"
        },
        "id": "e67bab33",
        "outputId": "c77d685d-a397-4fdf-8cd2-b8267f65adfc"
      },
      "outputs": [
        {
          "output_type": "execute_result",
          "data": {
            "text/plain": [
              "['a', 'b']"
            ]
          },
          "metadata": {},
          "execution_count": 17
        }
      ],
      "source": [
        "letters[:2]"
      ]
    },
    {
      "cell_type": "markdown",
      "id": "1aaaae86",
      "metadata": {
        "id": "1aaaae86"
      },
      "source": [
        "If you omit the second, the slice goes to the end."
      ]
    },
    {
      "cell_type": "code",
      "execution_count": null,
      "id": "a310f506",
      "metadata": {
        "colab": {
          "base_uri": "https://localhost:8080/"
        },
        "id": "a310f506",
        "outputId": "3895f4a0-8aad-42fc-b0c2-4d3471ccd019"
      },
      "outputs": [
        {
          "output_type": "execute_result",
          "data": {
            "text/plain": [
              "['c', 'd']"
            ]
          },
          "metadata": {},
          "execution_count": 18
        }
      ],
      "source": [
        "letters[2:]"
      ]
    },
    {
      "cell_type": "markdown",
      "id": "67ad02e8",
      "metadata": {
        "id": "67ad02e8"
      },
      "source": [
        "So if you omit both, the slice is a copy of the whole list."
      ]
    },
    {
      "cell_type": "code",
      "execution_count": null,
      "id": "1385a75e",
      "metadata": {
        "colab": {
          "base_uri": "https://localhost:8080/"
        },
        "id": "1385a75e",
        "outputId": "d58baa9c-c2de-4bbc-fdc2-18c47ab25458"
      },
      "outputs": [
        {
          "output_type": "execute_result",
          "data": {
            "text/plain": [
              "['a', 'b', 'c', 'd']"
            ]
          },
          "metadata": {},
          "execution_count": 19
        }
      ],
      "source": [
        "letters[:]"
      ]
    },
    {
      "cell_type": "markdown",
      "id": "9232c1ef",
      "metadata": {
        "id": "9232c1ef"
      },
      "source": [
        "Another way to copy a list is to use the `list` function."
      ]
    },
    {
      "cell_type": "code",
      "execution_count": null,
      "id": "a0ca0135",
      "metadata": {
        "colab": {
          "base_uri": "https://localhost:8080/"
        },
        "id": "a0ca0135",
        "outputId": "7ab0d0b5-189a-47a8-dcfe-7b8dd4539631"
      },
      "outputs": [
        {
          "output_type": "execute_result",
          "data": {
            "text/plain": [
              "['a', 'b', 'c', 'd']"
            ]
          },
          "metadata": {},
          "execution_count": 20
        }
      ],
      "source": [
        "list(letters)"
      ]
    },
    {
      "cell_type": "markdown",
      "id": "50e4b182",
      "metadata": {
        "id": "50e4b182"
      },
      "source": [
        "Because `list` is the name of a built-in function, you should avoid using it as a variable name.\n"
      ]
    },
    {
      "cell_type": "markdown",
      "id": "1b057c0c",
      "metadata": {
        "id": "1b057c0c"
      },
      "source": [
        "## List operations\n",
        "\n",
        "The `+` operator concatenates lists."
      ]
    },
    {
      "cell_type": "code",
      "execution_count": null,
      "id": "66804de0",
      "metadata": {
        "id": "66804de0"
      },
      "outputs": [],
      "source": [
        "t1 = [1, 2]\n",
        "t2 = [3, 4]\n",
        "t1 + t2"
      ]
    },
    {
      "cell_type": "markdown",
      "id": "474a5c40",
      "metadata": {
        "id": "474a5c40"
      },
      "source": [
        "The `*` operator repeats a list a given number of times."
      ]
    },
    {
      "cell_type": "code",
      "execution_count": null,
      "id": "96620f93",
      "metadata": {
        "colab": {
          "base_uri": "https://localhost:8080/"
        },
        "id": "96620f93",
        "outputId": "1fe19f55-5d5d-4b68-d6ec-70d67d111df5"
      },
      "outputs": [
        {
          "output_type": "execute_result",
          "data": {
            "text/plain": [
              "['spam', 'spam', 'spam', 'spam']"
            ]
          },
          "metadata": {},
          "execution_count": 21
        }
      ],
      "source": [
        "['spam'] * 4"
      ]
    },
    {
      "cell_type": "markdown",
      "id": "5b33bc51",
      "metadata": {
        "id": "5b33bc51"
      },
      "source": [
        "No other mathematical operators work with lists, but the built-in function `sum` adds up the elements."
      ]
    },
    {
      "cell_type": "code",
      "execution_count": null,
      "id": "0808ed08",
      "metadata": {
        "colab": {
          "base_uri": "https://localhost:8080/",
          "height": 55
        },
        "id": "0808ed08",
        "outputId": "4794a69e-5da6-44b7-a98a-f4cdb4920285"
      },
      "outputs": [
        {
          "output_type": "error",
          "ename": "NameError",
          "evalue": "name 't1' is not defined",
          "traceback": [
            "\u001b[0;31mNameError\u001b[0m\u001b[0;31m:\u001b[0m name 't1' is not defined\n"
          ]
        }
      ],
      "source": [
        "sum(t1)"
      ]
    },
    {
      "cell_type": "markdown",
      "id": "f216a14d",
      "metadata": {
        "id": "f216a14d"
      },
      "source": [
        "And `min` and `max` find the smallest and largest elements."
      ]
    },
    {
      "cell_type": "code",
      "execution_count": null,
      "id": "7ed7e53d",
      "metadata": {
        "colab": {
          "base_uri": "https://localhost:8080/",
          "height": 55
        },
        "id": "7ed7e53d",
        "outputId": "f4de320f-7c42-449c-e183-28c6b6ffd17e"
      },
      "outputs": [
        {
          "output_type": "error",
          "ename": "NameError",
          "evalue": "name 't1' is not defined",
          "traceback": [
            "\u001b[0;31mNameError\u001b[0m\u001b[0;31m:\u001b[0m name 't1' is not defined\n"
          ]
        }
      ],
      "source": [
        "min(t1)"
      ]
    },
    {
      "cell_type": "code",
      "execution_count": null,
      "id": "dda02e4e",
      "metadata": {
        "colab": {
          "base_uri": "https://localhost:8080/",
          "height": 55
        },
        "id": "dda02e4e",
        "outputId": "58615f36-ccf0-4510-e976-4bf376648a82"
      },
      "outputs": [
        {
          "output_type": "error",
          "ename": "NameError",
          "evalue": "name 't2' is not defined",
          "traceback": [
            "\u001b[0;31mNameError\u001b[0m\u001b[0;31m:\u001b[0m name 't2' is not defined\n"
          ]
        }
      ],
      "source": [
        "max(t2)"
      ]
    },
    {
      "cell_type": "markdown",
      "id": "533a2009",
      "metadata": {
        "id": "533a2009"
      },
      "source": [
        "## List methods\n",
        "\n",
        "Python provides methods that operate on lists. For example, `append`\n",
        "adds a new element to the end of a list:"
      ]
    },
    {
      "cell_type": "code",
      "execution_count": null,
      "id": "bcf04ef9",
      "metadata": {
        "colab": {
          "base_uri": "https://localhost:8080/"
        },
        "id": "bcf04ef9",
        "outputId": "b0b0cd62-9175-494e-a574-d93156dde44f"
      },
      "outputs": [
        {
          "output_type": "execute_result",
          "data": {
            "text/plain": [
              "['a', 'b', 'c', 'd', 'e']"
            ]
          },
          "metadata": {},
          "execution_count": 25
        }
      ],
      "source": [
        "letters.append('e')\n",
        "letters"
      ]
    },
    {
      "cell_type": "markdown",
      "id": "ccc57f77",
      "metadata": {
        "id": "ccc57f77"
      },
      "source": [
        "`extend` takes a list as an argument and appends all of the elements:"
      ]
    },
    {
      "cell_type": "code",
      "execution_count": null,
      "id": "be55916d",
      "metadata": {
        "colab": {
          "base_uri": "https://localhost:8080/"
        },
        "id": "be55916d",
        "outputId": "37d816e5-2664-48f0-856d-7ddc96eb5095"
      },
      "outputs": [
        {
          "output_type": "execute_result",
          "data": {
            "text/plain": [
              "['a', 'b', 'c', 'd', 'e', 'f', 'g']"
            ]
          },
          "metadata": {},
          "execution_count": 26
        }
      ],
      "source": [
        "letters.extend(['f', 'g'])\n",
        "letters"
      ]
    },
    {
      "cell_type": "markdown",
      "id": "0f39d9f6",
      "metadata": {
        "id": "0f39d9f6"
      },
      "source": [
        "There are two methods that remove elements from a list.\n",
        "If you know the index of the element you want, you can use `pop`."
      ]
    },
    {
      "cell_type": "code",
      "execution_count": null,
      "id": "b22da905",
      "metadata": {
        "colab": {
          "base_uri": "https://localhost:8080/",
          "height": 35
        },
        "id": "b22da905",
        "outputId": "ab4758e6-c7b3-43a3-f1c9-fb37250459be"
      },
      "outputs": [
        {
          "output_type": "execute_result",
          "data": {
            "text/plain": [
              "'b'"
            ],
            "application/vnd.google.colaboratory.intrinsic+json": {
              "type": "string"
            }
          },
          "metadata": {},
          "execution_count": 27
        }
      ],
      "source": [
        "t = ['a', 'b', 'c']\n",
        "t.pop(1)"
      ]
    },
    {
      "cell_type": "markdown",
      "id": "6729415a",
      "metadata": {
        "id": "6729415a"
      },
      "source": [
        "The return value is the element that was removed.\n",
        "And we can confirm that the list has been modified."
      ]
    },
    {
      "cell_type": "code",
      "execution_count": null,
      "id": "01bdff91",
      "metadata": {
        "colab": {
          "base_uri": "https://localhost:8080/"
        },
        "id": "01bdff91",
        "outputId": "c868aeb3-b0ed-41d5-cd8a-ff1dca7882fa"
      },
      "outputs": [
        {
          "output_type": "execute_result",
          "data": {
            "text/plain": [
              "['a', 'c']"
            ]
          },
          "metadata": {},
          "execution_count": 28
        }
      ],
      "source": [
        "t"
      ]
    },
    {
      "cell_type": "markdown",
      "id": "1e97ee7d",
      "metadata": {
        "id": "1e97ee7d"
      },
      "source": [
        "If you know the element you want to remove (but not the index), you can use `remove`:"
      ]
    },
    {
      "cell_type": "code",
      "execution_count": null,
      "id": "babe366e",
      "metadata": {
        "id": "babe366e"
      },
      "outputs": [],
      "source": [
        "t = ['a', 'b', 'c']\n",
        "t.remove('b')"
      ]
    },
    {
      "cell_type": "markdown",
      "id": "60e710fe",
      "metadata": {
        "id": "60e710fe"
      },
      "source": [
        "The return value from `remove` is `None`.\n",
        "But we can confirm that the list has been modified."
      ]
    },
    {
      "cell_type": "code",
      "execution_count": null,
      "id": "f80f5b1d",
      "metadata": {
        "colab": {
          "base_uri": "https://localhost:8080/"
        },
        "id": "f80f5b1d",
        "outputId": "48e9b880-2743-487e-af61-9cc74f06c8ea"
      },
      "outputs": [
        {
          "output_type": "execute_result",
          "data": {
            "text/plain": [
              "['a', 'c']"
            ]
          },
          "metadata": {},
          "execution_count": 30
        }
      ],
      "source": [
        "t"
      ]
    },
    {
      "cell_type": "markdown",
      "id": "2a9448a8",
      "metadata": {
        "id": "2a9448a8"
      },
      "source": [
        "If the element you ask for is not in the list, that's a ValueError."
      ]
    },
    {
      "cell_type": "code",
      "execution_count": null,
      "id": "861f8e7e",
      "metadata": {
        "tags": [],
        "colab": {
          "base_uri": "https://localhost:8080/",
          "height": 55
        },
        "id": "861f8e7e",
        "outputId": "4e5abd80-7d6a-40ae-bb23-28629c700287"
      },
      "outputs": [
        {
          "output_type": "error",
          "ename": "ValueError",
          "evalue": "list.remove(x): x not in list",
          "traceback": [
            "\u001b[0;31mValueError\u001b[0m\u001b[0;31m:\u001b[0m list.remove(x): x not in list\n"
          ]
        }
      ],
      "source": [
        "%%expect ValueError\n",
        "\n",
        "t.remove('d')"
      ]
    },
    {
      "cell_type": "markdown",
      "id": "18305f96",
      "metadata": {
        "id": "18305f96"
      },
      "source": [
        "## Lists and strings\n",
        "\n",
        "A string is a sequence of characters and a list is a sequence of values,\n",
        "but a list of characters is not the same as a string.\n",
        "To convert from a string to a list of characters, you can use the `list` function."
      ]
    },
    {
      "cell_type": "code",
      "execution_count": null,
      "id": "1b50bc13",
      "metadata": {
        "colab": {
          "base_uri": "https://localhost:8080/"
        },
        "id": "1b50bc13",
        "outputId": "615baa70-bc50-4724-9098-2d548f4caa61"
      },
      "outputs": [
        {
          "output_type": "execute_result",
          "data": {
            "text/plain": [
              "['s', 'p', 'a', 'm']"
            ]
          },
          "metadata": {},
          "execution_count": 32
        }
      ],
      "source": [
        "s = 'spam'\n",
        "t = list(s)\n",
        "t"
      ]
    },
    {
      "cell_type": "markdown",
      "id": "0291ef69",
      "metadata": {
        "id": "0291ef69"
      },
      "source": [
        "The `list` function breaks a string into individual letters.\n",
        "If you want to break a string into words, you can use the `split` method:"
      ]
    },
    {
      "cell_type": "code",
      "execution_count": null,
      "id": "c28e5127",
      "metadata": {
        "colab": {
          "base_uri": "https://localhost:8080/"
        },
        "id": "c28e5127",
        "outputId": "9b5aae2f-0567-48e0-d833-356bfad2b119"
      },
      "outputs": [
        {
          "output_type": "execute_result",
          "data": {
            "text/plain": [
              "['pining', 'for', 'the', 'fjords']"
            ]
          },
          "metadata": {},
          "execution_count": 33
        }
      ],
      "source": [
        "s = 'pining for the fjords'\n",
        "t = s.split()\n",
        "t"
      ]
    },
    {
      "cell_type": "markdown",
      "id": "0e16909d",
      "metadata": {
        "id": "0e16909d"
      },
      "source": [
        "An optional argument called a **delimiter** specifies which characters to use as word boundaries. The following example uses a hyphen as a delimiter."
      ]
    },
    {
      "cell_type": "code",
      "execution_count": null,
      "id": "ec6ea206",
      "metadata": {
        "colab": {
          "base_uri": "https://localhost:8080/"
        },
        "id": "ec6ea206",
        "outputId": "af1e3cf4-569b-485b-d8b7-255e00b6af60"
      },
      "outputs": [
        {
          "output_type": "execute_result",
          "data": {
            "text/plain": [
              "['ex', 'parrot']"
            ]
          },
          "metadata": {},
          "execution_count": 36
        }
      ],
      "source": [
        "s = 'ex-parrot'\n",
        "t = s.split('-')\n",
        "t"
      ]
    },
    {
      "cell_type": "markdown",
      "id": "7c61f916",
      "metadata": {
        "id": "7c61f916"
      },
      "source": [
        "If you have a list of strings, you can concatenate them into a single string using `join`.\n",
        "`join` is a string method, so you have to invoke it on the delimiter and pass the list as an argument."
      ]
    },
    {
      "cell_type": "code",
      "execution_count": null,
      "id": "75c74d3c",
      "metadata": {
        "colab": {
          "base_uri": "https://localhost:8080/",
          "height": 35
        },
        "id": "75c74d3c",
        "outputId": "6f5de22d-24e1-4a87-a22a-873348e502c9"
      },
      "outputs": [
        {
          "output_type": "execute_result",
          "data": {
            "text/plain": [
              "'pining for the fjords'"
            ],
            "application/vnd.google.colaboratory.intrinsic+json": {
              "type": "string"
            }
          },
          "metadata": {},
          "execution_count": 37
        }
      ],
      "source": [
        "delimiter = ' '\n",
        "t = ['pining', 'for', 'the', 'fjords']\n",
        "s = delimiter.join(t)\n",
        "s"
      ]
    },
    {
      "cell_type": "markdown",
      "id": "bedd842b",
      "metadata": {
        "id": "bedd842b"
      },
      "source": [
        "In this case the delimiter is a space character, so `join` puts a space\n",
        "between words.\n",
        "To join strings without spaces, you can use the empty string, `''`, as a delimiter."
      ]
    },
    {
      "cell_type": "markdown",
      "id": "181215ce",
      "metadata": {
        "id": "181215ce"
      },
      "source": [
        "## Looping through a list\n",
        "\n",
        "You can use a `for` statement to loop through the elements of a list."
      ]
    },
    {
      "cell_type": "code",
      "execution_count": null,
      "id": "a5df1e10",
      "metadata": {
        "colab": {
          "base_uri": "https://localhost:8080/"
        },
        "id": "a5df1e10",
        "outputId": "e577beb7-13ba-42b1-9c8c-ed96cc23c010"
      },
      "outputs": [
        {
          "output_type": "stream",
          "name": "stdout",
          "text": [
            "Cheddar\n",
            "Edam\n",
            "Gouda\n"
          ]
        }
      ],
      "source": [
        "for cheese in cheeses:\n",
        "    print(cheese)"
      ]
    },
    {
      "cell_type": "markdown",
      "id": "c0e53a09",
      "metadata": {
        "id": "c0e53a09"
      },
      "source": [
        "For example, after using `split` to make a list of words, we can use `for` to loop through them."
      ]
    },
    {
      "cell_type": "code",
      "execution_count": null,
      "id": "76b2c2e3",
      "metadata": {
        "colab": {
          "base_uri": "https://localhost:8080/"
        },
        "id": "76b2c2e3",
        "outputId": "da4b1b97-2805-4386-d59b-924a16bc4eaf"
      },
      "outputs": [
        {
          "output_type": "stream",
          "name": "stdout",
          "text": [
            "pining\n",
            "for\n",
            "the\n",
            "fjords\n"
          ]
        }
      ],
      "source": [
        "s = 'pining for the fjords'\n",
        "\n",
        "for word in s.split():\n",
        "    print(word)"
      ]
    },
    {
      "cell_type": "markdown",
      "id": "0857b55b",
      "metadata": {
        "id": "0857b55b"
      },
      "source": [
        "A `for` loop over an empty list never runs the indented statements."
      ]
    },
    {
      "cell_type": "code",
      "execution_count": null,
      "id": "7e844887",
      "metadata": {
        "id": "7e844887"
      },
      "outputs": [],
      "source": [
        "for x in []:\n",
        "    print('This never happens.')"
      ]
    },
    {
      "cell_type": "markdown",
      "id": "6e5f55c9",
      "metadata": {
        "id": "6e5f55c9"
      },
      "source": [
        "## Sorting lists\n",
        "\n",
        "Python provides a built-in function called `sorted` that sorts the elements of a list."
      ]
    },
    {
      "cell_type": "code",
      "execution_count": null,
      "id": "9db54d53",
      "metadata": {
        "colab": {
          "base_uri": "https://localhost:8080/"
        },
        "id": "9db54d53",
        "outputId": "ee02ca47-2942-4a29-df3d-6f7bd3c88bc2"
      },
      "outputs": [
        {
          "output_type": "execute_result",
          "data": {
            "text/plain": [
              "['a', 'b', 'c']"
            ]
          },
          "metadata": {},
          "execution_count": 42
        }
      ],
      "source": [
        "scramble = ['c', 'a', 'b']\n",
        "sorted(scramble)"
      ]
    },
    {
      "cell_type": "markdown",
      "id": "44e028cf",
      "metadata": {
        "id": "44e028cf"
      },
      "source": [
        "The original list is unchanged."
      ]
    },
    {
      "cell_type": "code",
      "execution_count": null,
      "id": "33d11287",
      "metadata": {
        "colab": {
          "base_uri": "https://localhost:8080/"
        },
        "id": "33d11287",
        "outputId": "3b83160c-66fe-4f11-9c77-a32cb27af7eb"
      },
      "outputs": [
        {
          "output_type": "execute_result",
          "data": {
            "text/plain": [
              "['c', 'a', 'b']"
            ]
          },
          "metadata": {},
          "execution_count": 45
        }
      ],
      "source": [
        "scramble"
      ]
    },
    {
      "cell_type": "markdown",
      "id": "530146af",
      "metadata": {
        "id": "530146af"
      },
      "source": [
        "`sorted` works with any kind of sequence, not just lists. So we can sort the letters in a string like this."
      ]
    },
    {
      "cell_type": "code",
      "execution_count": null,
      "id": "38c7cb0c",
      "metadata": {
        "colab": {
          "base_uri": "https://localhost:8080/"
        },
        "id": "38c7cb0c",
        "outputId": "164578c5-bc0d-472c-bb75-f96800706879"
      },
      "outputs": [
        {
          "output_type": "execute_result",
          "data": {
            "text/plain": [
              "['e', 'e', 'l', 'r', 's', 't', 't']"
            ]
          },
          "metadata": {},
          "execution_count": 44
        }
      ],
      "source": [
        "sorted('letters')"
      ]
    },
    {
      "cell_type": "markdown",
      "id": "f90bd9ea",
      "metadata": {
        "id": "f90bd9ea"
      },
      "source": [
        "The result it a list.\n",
        "To convert the list to a string, we can use `join`."
      ]
    },
    {
      "cell_type": "code",
      "execution_count": null,
      "id": "2adb2fc3",
      "metadata": {
        "colab": {
          "base_uri": "https://localhost:8080/",
          "height": 35
        },
        "id": "2adb2fc3",
        "outputId": "08e6553d-8045-4454-fd70-fbc82979cffd"
      },
      "outputs": [
        {
          "output_type": "execute_result",
          "data": {
            "text/plain": [
              "'eelrstt'"
            ],
            "application/vnd.google.colaboratory.intrinsic+json": {
              "type": "string"
            }
          },
          "metadata": {},
          "execution_count": 46
        }
      ],
      "source": [
        "''.join(sorted('letters'))"
      ]
    },
    {
      "cell_type": "markdown",
      "id": "a57084e2",
      "metadata": {
        "id": "a57084e2"
      },
      "source": [
        "With an empty string as the delimiter, the elements of the list are joined with nothing between them."
      ]
    },
    {
      "cell_type": "markdown",
      "id": "ce98b3d5",
      "metadata": {
        "id": "ce98b3d5"
      },
      "source": [
        "## Objects and values\n",
        "\n",
        "If we run these assignment statements:"
      ]
    },
    {
      "cell_type": "code",
      "execution_count": null,
      "id": "aa547282",
      "metadata": {
        "id": "aa547282"
      },
      "outputs": [],
      "source": [
        "a = 'banana'\n",
        "b = 'banana'"
      ]
    },
    {
      "cell_type": "markdown",
      "id": "33d020aa",
      "metadata": {
        "id": "33d020aa"
      },
      "source": [
        "We know that `a` and `b` both refer to a string, but we don't know whether they refer to the *same* string.\n",
        "There are two possible states, shown in the following figure."
      ]
    },
    {
      "cell_type": "code",
      "execution_count": null,
      "id": "95a2aded",
      "metadata": {
        "tags": [],
        "id": "95a2aded"
      },
      "outputs": [],
      "source": [
        "from diagram import Frame, Stack\n",
        "\n",
        "s = 'banana'\n",
        "bindings = [Binding(Value(name), Value(repr(s))) for name in 'ab']\n",
        "frame1 = Frame(bindings, dy=-0.25)\n",
        "\n",
        "binding1 = Binding(Value('a'), Value(repr(s)), dy=-0.11)\n",
        "binding2 = Binding(Value('b'), draw_value=False, dy=0.11)\n",
        "frame2 = Frame([binding1, binding2], dy=-0.25)\n",
        "\n",
        "stack = Stack([frame1, frame2], dx=1.7, dy=0)"
      ]
    },
    {
      "cell_type": "code",
      "execution_count": null,
      "id": "3d75a28c",
      "metadata": {
        "tags": [],
        "colab": {
          "base_uri": "https://localhost:8080/",
          "height": 113
        },
        "id": "3d75a28c",
        "outputId": "44b3cb54-011b-42f2-a944-014f0584e43f"
      },
      "outputs": [
        {
          "output_type": "display_data",
          "data": {
            "text/plain": [
              "<Figure size 285x76 with 1 Axes>"
            ],
            "image/png": "[encoded data removed]"
          },
          "metadata": {}
        }
      ],
      "source": [
        "width, height, x, y = [2.85, 0.76, 0.17, 0.51]\n",
        "ax = diagram(width, height)\n",
        "bbox = stack.draw(ax, x, y)\n",
        "# adjust(x, y, bbox)"
      ]
    },
    {
      "cell_type": "markdown",
      "id": "2f0b0431",
      "metadata": {
        "id": "2f0b0431"
      },
      "source": [
        "In the diagram on the left, `a` and `b` refer to two different objects that have the\n",
        "same value. In the diagram on the right, they refer to the same object.\n",
        "To check whether two variables refer to the same object, you can use the `is` operator."
      ]
    },
    {
      "cell_type": "code",
      "execution_count": null,
      "id": "a37e37bf",
      "metadata": {
        "colab": {
          "base_uri": "https://localhost:8080/"
        },
        "id": "a37e37bf",
        "outputId": "c6fe2b0c-bedb-46bb-90b5-b52a1232a9f4"
      },
      "outputs": [
        {
          "output_type": "execute_result",
          "data": {
            "text/plain": [
              "True"
            ]
          },
          "metadata": {},
          "execution_count": 50
        }
      ],
      "source": [
        "a = 'banana'\n",
        "b = 'banana'\n",
        "a is b"
      ]
    },
    {
      "cell_type": "markdown",
      "id": "d1eb0e36",
      "metadata": {
        "id": "d1eb0e36"
      },
      "source": [
        "In this example, Python only created one string object, and both `a`\n",
        "and `b` refer to it.\n",
        "But when you create two lists, you get two objects."
      ]
    },
    {
      "cell_type": "code",
      "execution_count": null,
      "id": "d6af7316",
      "metadata": {
        "colab": {
          "base_uri": "https://localhost:8080/"
        },
        "id": "d6af7316",
        "outputId": "f434fad1-b965-48fc-d400-87d7fd4ed2f5"
      },
      "outputs": [
        {
          "output_type": "execute_result",
          "data": {
            "text/plain": [
              "False"
            ]
          },
          "metadata": {},
          "execution_count": 51
        }
      ],
      "source": [
        "a = [1, 2, 3]\n",
        "b = [1, 2, 3]\n",
        "a is b"
      ]
    },
    {
      "cell_type": "markdown",
      "id": "a8d4c3d4",
      "metadata": {
        "id": "a8d4c3d4"
      },
      "source": [
        "So the state diagram looks like this."
      ]
    },
    {
      "cell_type": "code",
      "execution_count": null,
      "id": "dea08b82",
      "metadata": {
        "tags": [],
        "id": "dea08b82"
      },
      "outputs": [],
      "source": [
        "t = [1, 2, 3]\n",
        "binding1 = Binding(Value('a'), Value(repr(t)))\n",
        "binding2 = Binding(Value('b'), Value(repr(t)))\n",
        "frame = Frame([binding1, binding2], dy=-0.25)"
      ]
    },
    {
      "cell_type": "code",
      "execution_count": null,
      "id": "7e66ee69",
      "metadata": {
        "tags": [],
        "colab": {
          "base_uri": "https://localhost:8080/",
          "height": 113
        },
        "id": "7e66ee69",
        "outputId": "5049f0a2-b043-4f3b-a73f-6753e85166fe"
      },
      "outputs": [
        {
          "output_type": "display_data",
          "data": {
            "text/plain": [
              "<Figure size 116x76 with 1 Axes>"
            ],
            "image/png": "[encoded data removed]"
          },
          "metadata": {}
        }
      ],
      "source": [
        "width, height, x, y = [1.16, 0.76, 0.21, 0.51]\n",
        "ax = diagram(width, height)\n",
        "bbox = frame.draw(ax, x, y)\n",
        "# adjust(x, y, bbox)"
      ]
    },
    {
      "cell_type": "markdown",
      "id": "cc115a9f",
      "metadata": {
        "id": "cc115a9f"
      },
      "source": [
        "In this case we would say that the two lists are **equivalent**, because they have the same elements, but not **identical**, because they are not the same object.\n",
        "If two objects are identical, they are also equivalent, but if they are equivalent, they are not necessarily identical."
      ]
    },
    {
      "cell_type": "markdown",
      "id": "a58db021",
      "metadata": {
        "id": "a58db021"
      },
      "source": [
        "## Aliasing\n",
        "\n",
        "If `a` refers to an object and you assign `b = a`, then both variables refer to the same object."
      ]
    },
    {
      "cell_type": "code",
      "execution_count": null,
      "id": "d6a7eb5b",
      "metadata": {
        "colab": {
          "base_uri": "https://localhost:8080/"
        },
        "id": "d6a7eb5b",
        "outputId": "2dd00285-2d22-425f-b245-77ecb7f356ce"
      },
      "outputs": [
        {
          "output_type": "execute_result",
          "data": {
            "text/plain": [
              "True"
            ]
          },
          "metadata": {},
          "execution_count": 56
        }
      ],
      "source": [
        "a = [1, 2, 3]\n",
        "b = a\n",
        "b is a"
      ]
    },
    {
      "cell_type": "markdown",
      "id": "f6ab3262",
      "metadata": {
        "id": "f6ab3262"
      },
      "source": [
        "So the state diagram looks like this."
      ]
    },
    {
      "cell_type": "code",
      "execution_count": null,
      "id": "dd406791",
      "metadata": {
        "tags": [],
        "id": "dd406791"
      },
      "outputs": [],
      "source": [
        "t = [1, 2, 3]\n",
        "binding1 = Binding(Value('a'), Value(repr(t)), dy=-0.11)\n",
        "binding2 = Binding(Value('b'), draw_value=False, dy=0.11)\n",
        "frame = Frame([binding1, binding2], dy=-0.25)"
      ]
    },
    {
      "cell_type": "code",
      "execution_count": null,
      "id": "552e1e1e",
      "metadata": {
        "tags": [],
        "colab": {
          "base_uri": "https://localhost:8080/",
          "height": 118
        },
        "id": "552e1e1e",
        "outputId": "8667b7d8-dc31-471d-ac49-baf1c06e3ec8"
      },
      "outputs": [
        {
          "output_type": "display_data",
          "data": {
            "text/plain": [
              "<Figure size 111x81 with 1 Axes>"
            ],
            "image/png": "[encoded data removed]"
          },
          "metadata": {}
        }
      ],
      "source": [
        "width, height, x, y = [1.11, 0.81, 0.17, 0.56]\n",
        "ax = diagram(width, height)\n",
        "bbox = frame.draw(ax, x, y)\n",
        "# adjust(x, y, bbox)"
      ]
    },
    {
      "cell_type": "markdown",
      "id": "c676fde9",
      "metadata": {
        "id": "c676fde9"
      },
      "source": [
        "The association of a variable with an object is called a **reference**.\n",
        "In this example, there are two references to the same object.\n",
        "\n",
        "An object with more than one reference has more than one name, so we say the object is **aliased**.\n",
        "If the aliased object is mutable, changes made with one name affect the other.\n",
        "In this example, if we change the object `b` refers to, we are also changing the object `a` refers to."
      ]
    },
    {
      "cell_type": "code",
      "execution_count": null,
      "id": "6e3c1b24",
      "metadata": {
        "colab": {
          "base_uri": "https://localhost:8080/"
        },
        "id": "6e3c1b24",
        "outputId": "14e1d91f-f6b3-4bb2-884e-5894c8fdb997"
      },
      "outputs": [
        {
          "output_type": "execute_result",
          "data": {
            "text/plain": [
              "[5, 2, 3]"
            ]
          },
          "metadata": {},
          "execution_count": 59
        }
      ],
      "source": [
        "b[0] = 5\n",
        "a"
      ]
    },
    {
      "cell_type": "markdown",
      "id": "e3ef0537",
      "metadata": {
        "id": "e3ef0537"
      },
      "source": [
        "So we would say that `a` \"sees\" this change.\n",
        "Although this behavior can be useful, it is error-prone.\n",
        "In general, it is safer to avoid aliasing when you are working with mutable objects.\n",
        "\n",
        "For immutable objects like strings, aliasing is not as much of a problem.\n",
        "In this example:"
      ]
    },
    {
      "cell_type": "code",
      "execution_count": null,
      "id": "dad8a246",
      "metadata": {
        "id": "dad8a246"
      },
      "outputs": [],
      "source": [
        "a = 'banana'\n",
        "b = 'banana'"
      ]
    },
    {
      "cell_type": "markdown",
      "id": "952bbf60",
      "metadata": {
        "id": "952bbf60"
      },
      "source": [
        "It almost never makes a difference whether `a` and `b` refer to the same\n",
        "string or not."
      ]
    },
    {
      "cell_type": "markdown",
      "id": "35045bef",
      "metadata": {
        "id": "35045bef"
      },
      "source": [
        "## List arguments\n",
        "\n",
        "When you pass a list to a function, the function gets a reference to the\n",
        "list. If the function modifies the list, the caller sees the change. For\n",
        "example, `pop_first` uses the list method `pop` to remove the first element from a list."
      ]
    },
    {
      "cell_type": "code",
      "execution_count": null,
      "id": "613b1845",
      "metadata": {
        "id": "613b1845"
      },
      "outputs": [],
      "source": [
        "def pop_first(lst):\n",
        "    return lst.pop(0)"
      ]
    },
    {
      "cell_type": "markdown",
      "id": "4953b0f9",
      "metadata": {
        "id": "4953b0f9"
      },
      "source": [
        "We can use it like this."
      ]
    },
    {
      "cell_type": "code",
      "execution_count": null,
      "id": "3aff3598",
      "metadata": {
        "colab": {
          "base_uri": "https://localhost:8080/",
          "height": 35
        },
        "id": "3aff3598",
        "outputId": "0503ad24-8ad5-4bfb-b0d4-d3e567329281"
      },
      "outputs": [
        {
          "output_type": "execute_result",
          "data": {
            "text/plain": [
              "'a'"
            ],
            "application/vnd.google.colaboratory.intrinsic+json": {
              "type": "string"
            }
          },
          "metadata": {},
          "execution_count": 62
        }
      ],
      "source": [
        "letters = ['a', 'b', 'c']\n",
        "pop_first(letters)"
      ]
    },
    {
      "cell_type": "markdown",
      "id": "ef5d3c1e",
      "metadata": {
        "id": "ef5d3c1e"
      },
      "source": [
        "The return value is the first element, which has been removed from the list -- as we can see by displaying the modified list."
      ]
    },
    {
      "cell_type": "code",
      "execution_count": null,
      "id": "c10e4dcc",
      "metadata": {
        "colab": {
          "base_uri": "https://localhost:8080/"
        },
        "id": "c10e4dcc",
        "outputId": "44d08841-1487-482f-b76e-041adcf71e33"
      },
      "outputs": [
        {
          "output_type": "execute_result",
          "data": {
            "text/plain": [
              "['b', 'c']"
            ]
          },
          "metadata": {},
          "execution_count": 63
        }
      ],
      "source": [
        "letters"
      ]
    },
    {
      "cell_type": "markdown",
      "id": "e5288e08",
      "metadata": {
        "id": "e5288e08"
      },
      "source": [
        "In this example, the parameter `lst` and the variable `letters` are aliases for the same object, so the state diagram looks like this:"
      ]
    },
    {
      "cell_type": "code",
      "execution_count": null,
      "id": "a13e72c7",
      "metadata": {
        "tags": [],
        "id": "a13e72c7"
      },
      "outputs": [],
      "source": [
        "lst = make_list('abc', dy=-0.3, offsetx=0.1)\n",
        "binding1 = Binding(Value('letters'), draw_value=False)\n",
        "frame1 = Frame([binding1], name='__main__', loc='left')\n",
        "\n",
        "binding2 = Binding(Value('lst'), draw_value=False, dx=0.61, dy=0.35)\n",
        "frame2 = Frame([binding2], name='pop_first', loc='left', offsetx=0.08)\n",
        "\n",
        "stack = Stack([frame1, frame2], dx=-0.3, dy=-0.5)"
      ]
    },
    {
      "cell_type": "code",
      "execution_count": null,
      "id": "1a06dae9",
      "metadata": {
        "tags": [],
        "colab": {
          "base_uri": "https://localhost:8080/",
          "height": 179
        },
        "id": "1a06dae9",
        "outputId": "6a2605cd-bf8e-46c0-c10e-a3fcc9406a56"
      },
      "outputs": [
        {
          "output_type": "execute_result",
          "data": {
            "text/plain": [
              "[2.05, 1.22, 1.06, 0.85]"
            ]
          },
          "metadata": {},
          "execution_count": 65
        },
        {
          "output_type": "display_data",
          "data": {
            "text/plain": [
              "<Figure size 204x124 with 1 Axes>"
            ],
            "image/png": "[encoded data removed]"
          },
          "metadata": {}
        }
      ],
      "source": [
        "width, height, x, y = [2.04, 1.24, 1.06, 0.85]\n",
        "ax = diagram(width, height)\n",
        "bbox1 = stack.draw(ax, x, y)\n",
        "bbox2 = lst.draw(ax, x+0.5, y)\n",
        "bbox = Bbox.union([bbox1, bbox2])\n",
        "adjust(x, y, bbox)"
      ]
    },
    {
      "cell_type": "markdown",
      "id": "c1a093d2",
      "metadata": {
        "id": "c1a093d2"
      },
      "source": [
        "Passing a reference to an object as an argument to a function creates a form of aliasing.\n",
        "If the function modifies the object, those changes persist after the function is done."
      ]
    },
    {
      "cell_type": "markdown",
      "id": "88c07ec9",
      "metadata": {
        "tags": [],
        "id": "88c07ec9"
      },
      "source": [
        "## Making a word list\n",
        "\n",
        "In the previous chapter, we read the file `words.txt` and searched for words with certain properties, like using the letter `e`.\n",
        "But we read the entire file many times, which is not efficient.\n",
        "It is better to read the file once and put the words in a list.\n",
        "The following loop shows how."
      ]
    },
    {
      "cell_type": "code",
      "execution_count": null,
      "id": "6550f0b8",
      "metadata": {
        "tags": [],
        "colab": {
          "base_uri": "https://localhost:8080/"
        },
        "id": "6550f0b8",
        "outputId": "f3b70bd4-5d30-4240-e139-19b814f162fa"
      },
      "outputs": [
        {
          "output_type": "stream",
          "name": "stdout",
          "text": [
            "Downloaded words.txt\n"
          ]
        }
      ],
      "source": [
        "download('https://raw.githubusercontent.com/AllenDowney/ThinkPython/v3/words.txt');"
      ]
    },
    {
      "cell_type": "code",
      "execution_count": null,
      "id": "e5a94833",
      "metadata": {
        "colab": {
          "base_uri": "https://localhost:8080/"
        },
        "id": "e5a94833",
        "outputId": "2392d7cf-947f-4f73-fd75-551053febae0"
      },
      "outputs": [
        {
          "output_type": "execute_result",
          "data": {
            "text/plain": [
              "113783"
            ]
          },
          "metadata": {},
          "execution_count": 67
        }
      ],
      "source": [
        "word_list = []\n",
        "\n",
        "for line in open('words.txt'):\n",
        "    word = line.strip()\n",
        "    word_list.append(word)\n",
        "\n",
        "len(word_list)"
      ]
    },
    {
      "cell_type": "markdown",
      "id": "44450ffa",
      "metadata": {
        "id": "44450ffa"
      },
      "source": [
        "Before the loop, `word_list` is initialized with an empty list.\n",
        "Each time through the loop, the `append` method adds a word to the end.\n",
        "When the loop is done, there are more than 113,000 words in the list.\n",
        "\n",
        "Another way to do the same thing is to use `read` to read the entire file into a string."
      ]
    },
    {
      "cell_type": "code",
      "execution_count": null,
      "id": "32e28204",
      "metadata": {
        "colab": {
          "base_uri": "https://localhost:8080/"
        },
        "id": "32e28204",
        "outputId": "3b33c6ce-52bf-4fba-fc67-f3416b9721b6"
      },
      "outputs": [
        {
          "output_type": "execute_result",
          "data": {
            "text/plain": [
              "1016511"
            ]
          },
          "metadata": {},
          "execution_count": 68
        }
      ],
      "source": [
        "string = open('words.txt').read()\n",
        "len(string)"
      ]
    },
    {
      "cell_type": "markdown",
      "id": "65718c7f",
      "metadata": {
        "id": "65718c7f"
      },
      "source": [
        "The result is a single string with more than a million characters.\n",
        "We can use the `split` method to split it into a list of words."
      ]
    },
    {
      "cell_type": "code",
      "execution_count": null,
      "id": "4e35f7ce",
      "metadata": {
        "colab": {
          "base_uri": "https://localhost:8080/"
        },
        "id": "4e35f7ce",
        "outputId": "fc4e78d7-eab4-4979-a512-244e9be8079e"
      },
      "outputs": [
        {
          "output_type": "execute_result",
          "data": {
            "text/plain": [
              "113783"
            ]
          },
          "metadata": {},
          "execution_count": 69
        }
      ],
      "source": [
        "word_list = string.split()\n",
        "len(word_list)"
      ]
    },
    {
      "cell_type": "markdown",
      "id": "1b5b25a3",
      "metadata": {
        "id": "1b5b25a3"
      },
      "source": [
        "Now, to check whether a string appears in the list, we can use the `in` operator.\n",
        "For example, `'demotic'` is in the list."
      ]
    },
    {
      "cell_type": "code",
      "execution_count": null,
      "id": "a778a62a",
      "metadata": {
        "colab": {
          "base_uri": "https://localhost:8080/"
        },
        "id": "a778a62a",
        "outputId": "62a85c1f-509b-49d0-bb82-f78de85ab0ce"
      },
      "outputs": [
        {
          "output_type": "execute_result",
          "data": {
            "text/plain": [
              "True"
            ]
          },
          "metadata": {},
          "execution_count": 70
        }
      ],
      "source": [
        "'demotic' in word_list"
      ]
    },
    {
      "cell_type": "markdown",
      "id": "9df6674d",
      "metadata": {
        "id": "9df6674d"
      },
      "source": [
        "But `'contrafibularities'` is not."
      ]
    },
    {
      "cell_type": "code",
      "execution_count": null,
      "id": "63341c0e",
      "metadata": {
        "colab": {
          "base_uri": "https://localhost:8080/"
        },
        "id": "63341c0e",
        "outputId": "482c2168-8219-49af-ab48-008db0e04526"
      },
      "outputs": [
        {
          "output_type": "execute_result",
          "data": {
            "text/plain": [
              "False"
            ]
          },
          "metadata": {},
          "execution_count": 71
        }
      ],
      "source": [
        "'contrafibularities' in word_list"
      ]
    },
    {
      "cell_type": "markdown",
      "id": "243c25b6",
      "metadata": {
        "id": "243c25b6"
      },
      "source": [
        "And I have to say, I'm anaspeptic about it."
      ]
    },
    {
      "cell_type": "markdown",
      "id": "ce9ffd79",
      "metadata": {
        "id": "ce9ffd79"
      },
      "source": [
        "## Debugging\n",
        "\n",
        "Note that most list methods modify the argument and return `None`.\n",
        "This is the opposite of the string methods, which return a new string and leave the original alone.\n",
        "\n",
        "If you are used to writing string code like this:"
      ]
    },
    {
      "cell_type": "code",
      "execution_count": null,
      "id": "88872f14",
      "metadata": {
        "colab": {
          "base_uri": "https://localhost:8080/",
          "height": 35
        },
        "id": "88872f14",
        "outputId": "301c2f71-700b-4f8a-c30a-e3db0aab019c"
      },
      "outputs": [
        {
          "output_type": "execute_result",
          "data": {
            "text/plain": [
              "'plumage'"
            ],
            "application/vnd.google.colaboratory.intrinsic+json": {
              "type": "string"
            }
          },
          "metadata": {},
          "execution_count": 72
        }
      ],
      "source": [
        "word = 'plumage!'\n",
        "word = word.strip('!')\n",
        "word"
      ]
    },
    {
      "cell_type": "markdown",
      "id": "d2117582",
      "metadata": {
        "id": "d2117582"
      },
      "source": [
        "It is tempting to write list code like this:"
      ]
    },
    {
      "cell_type": "code",
      "execution_count": null,
      "id": "e28e7135",
      "metadata": {
        "id": "e28e7135"
      },
      "outputs": [],
      "source": [
        "t = [1, 2, 3]\n",
        "t = t.remove(3)           # WRONG!"
      ]
    },
    {
      "cell_type": "markdown",
      "id": "991c439d",
      "metadata": {
        "id": "991c439d"
      },
      "source": [
        "`remove` modifies the list and returns `None`, so next operation you perform with `t` is likely to fail."
      ]
    },
    {
      "cell_type": "code",
      "execution_count": null,
      "id": "97cf0c61",
      "metadata": {
        "tags": [],
        "colab": {
          "base_uri": "https://localhost:8080/",
          "height": 55
        },
        "id": "97cf0c61",
        "outputId": "91245663-5564-443d-db22-baf599fd3d33"
      },
      "outputs": [
        {
          "output_type": "error",
          "ename": "AttributeError",
          "evalue": "'NoneType' object has no attribute 'remove'",
          "traceback": [
            "\u001b[0;31mAttributeError\u001b[0m\u001b[0;31m:\u001b[0m 'NoneType' object has no attribute 'remove'\n"
          ]
        }
      ],
      "source": [
        "%%expect AttributeError\n",
        "\n",
        "t.remove(2)"
      ]
    },
    {
      "cell_type": "markdown",
      "id": "c500e2d8",
      "metadata": {
        "id": "c500e2d8"
      },
      "source": [
        "This error message takes some explaining.\n",
        "An **attribute** of an object is a variable or method associated with it.\n",
        "In this case, the value of `t` is `None`, which is a `NoneType` object, which does not have a attribute named `remove`, so the result is an `AttributeError`.\n",
        "\n",
        "If you see an error message like this, you should look backward through the program and see if you might have called a list method incorrectly."
      ]
    },
    {
      "cell_type": "markdown",
      "id": "f90db780",
      "metadata": {
        "id": "f90db780"
      },
      "source": [
        "## Glossary\n",
        "\n",
        "**list:**\n",
        " An object that contains a sequence of values.\n",
        "\n",
        "**element:**\n",
        " One of the values in a list or other sequence.\n",
        "\n",
        "**nested list:**\n",
        "A list that is an element of another list.\n",
        "\n",
        "**delimiter:**\n",
        " A character or string used to indicate where a string should be split.\n",
        "\n",
        "**equivalent:**\n",
        " Having the same value.\n",
        "\n",
        "**identical:**\n",
        " Being the same object (which implies equivalence).\n",
        "\n",
        "**reference:**\n",
        " The association between a variable and its value.\n",
        "\n",
        "**aliased:**\n",
        "If there is more than one variable that refers to an object, the object is aliased.\n",
        "\n",
        "**attribute:**\n",
        " One of the named values associated with an object."
      ]
    },
    {
      "cell_type": "markdown",
      "id": "e67864e5",
      "metadata": {
        "id": "e67864e5"
      },
      "source": [
        "## Exercises\n",
        "\n"
      ]
    },
    {
      "cell_type": "code",
      "execution_count": null,
      "id": "a4e34564",
      "metadata": {
        "tags": [],
        "colab": {
          "base_uri": "https://localhost:8080/"
        },
        "id": "a4e34564",
        "outputId": "439e60b0-b478-49dd-e486-ced8d5257729"
      },
      "outputs": [
        {
          "output_type": "stream",
          "name": "stdout",
          "text": [
            "Exception reporting mode: Verbose\n"
          ]
        }
      ],
      "source": [
        "# This cell tells Jupyter to provide detailed debugging information\n",
        "# when a runtime error occurs. Run it before working on the exercises.\n",
        "\n",
        "%xmode Verbose"
      ]
    },
    {
      "cell_type": "markdown",
      "id": "ae9c42da",
      "metadata": {
        "id": "ae9c42da"
      },
      "source": [
        "### Ask a virtual assistant\n",
        "\n",
        "In this chapter, I used the words \"contrafibularities\" and \"anaspeptic\", but they are not actually English words.\n",
        "They were used in the British television show *Black Adder*, Season 3, Episode 2, \"Ink and Incapability\".\n",
        "\n",
        "However, when I asked ChatGPT 3.5 (August 3, 2023 version) where those words came from, it initially claimed they are from Monty Python, and later claimed they are from the Tom Stoppard play *Rosencrantz and Guildenstern Are Dead*.\n",
        "\n",
        "If you ask now, you might get different results.\n",
        "But this example is a reminder that virtual assistants are not always accurate, so you should check whether the results are correct.\n",
        "As you gain experience, you will get a sense of which questions virtual assistants can answer reliably.\n",
        "In this example, a conventional web search can identify the source of these words quickly.\n",
        "\n",
        "If you get stuck on any of the exercises in this chapter, consider asking a virtual assistant for help.\n",
        "If you get a result that uses features we haven't learned yet, you can assign the VA a \"role\".\n",
        "\n",
        "For example, before you ask a question try typing \"Role: Basic Python Programming Instructor\".\n",
        "After that, the responses you get should use only basic features.\n",
        "If you still see features we you haven't learned, you can follow up with \"Can you write that using only basic Python features?\""
      ]
    },
    {
      "cell_type": "markdown",
      "id": "31d5b304",
      "metadata": {
        "id": "31d5b304"
      },
      "source": [
        "### Exercise\n",
        "\n",
        "Two words are anagrams if you can rearrange the letters from one to spell the other.\n",
        "For example, `tops` is an anagram of `stop`.\n",
        "\n",
        "One way to check whether two words are anagrams is to sort the letters in both words.\n",
        "If the lists of sorted letters are the same, the words are anagrams.\n",
        "\n",
        "Write a function called `is_anagram` that takes two strings and returns `True` if they are anagrams."
      ]
    },
    {
      "cell_type": "markdown",
      "id": "a882bfeb",
      "metadata": {
        "tags": [],
        "id": "a882bfeb"
      },
      "source": [
        "To get you started, here's an outline of the function with doctests."
      ]
    },
    {
      "cell_type": "code",
      "execution_count": null,
      "id": "9c5916ed",
      "metadata": {
        "tags": [],
        "id": "9c5916ed"
      },
      "outputs": [],
      "source": [
        "def is_anagram(word1, word2):\n",
        "    \"\"\"Checks whether two words are anagrams.\n",
        "\n",
        "    >>> is_anagram('tops', 'stop')\n",
        "    True\n",
        "    >>> is_anagram('skate', 'takes')\n",
        "    True\n",
        "    >>> is_anagram('tops', 'takes')\n",
        "    False\n",
        "    >>> is_anagram('skate', 'stop')\n",
        "    False\n",
        "    \"\"\"\n",
        "    return sorted(word1) == sorted(word2)"
      ]
    },
    {
      "cell_type": "markdown",
      "id": "a86e7403",
      "metadata": {
        "tags": [],
        "id": "a86e7403"
      },
      "source": [
        "You can use `doctest` to test your function."
      ]
    },
    {
      "cell_type": "code",
      "execution_count": null,
      "id": "ce7a96ec",
      "metadata": {
        "tags": [],
        "colab": {
          "base_uri": "https://localhost:8080/"
        },
        "id": "ce7a96ec",
        "outputId": "b6a2c26e-c1d6-4965-b40c-68093e868ff0"
      },
      "outputs": [
        {
          "output_type": "stream",
          "name": "stderr",
          "text": [
            "\n",
            "PYDEV DEBUGGER WARNING:\n",
            "sys.settrace() should not be used when the debugger is being used.\n",
            "This may cause the debugger to stop working correctly.\n",
            "If this is needed, please check: \n",
            "http://pydev.blogspot.com/2007/06/why-cant-pydev-debugger-work-with.html\n",
            "to see how to restore the debug tracing back correctly.\n",
            "Call Location:\n",
            "  File \"/usr/lib/python3.10/doctest.py\", line 1501, in run\n",
            "    sys.settrace(save_trace)\n",
            "\n"
          ]
        }
      ],
      "source": [
        "from doctest import run_docstring_examples\n",
        "\n",
        "def run_doctests(func):\n",
        "    run_docstring_examples(func, globals(), name=func.__name__)\n",
        "\n",
        "run_doctests(is_anagram)"
      ]
    },
    {
      "cell_type": "markdown",
      "id": "8501f3ba",
      "metadata": {
        "id": "8501f3ba"
      },
      "source": [
        "*Using* your function and the word list, find all the anagrams of `takes`."
      ]
    },
    {
      "cell_type": "code",
      "execution_count": null,
      "id": "75e17c7b",
      "metadata": {
        "colab": {
          "base_uri": "https://localhost:8080/"
        },
        "id": "75e17c7b",
        "outputId": "d7d7a01e-7b66-4e0a-a532-439d7a078645"
      },
      "outputs": [
        {
          "output_type": "stream",
          "name": "stdout",
          "text": [
            "skate\n",
            "stake\n",
            "steak\n",
            "takes\n",
            "teaks\n"
          ]
        }
      ],
      "source": [
        "for word in word_list:\n",
        "    if is_anagram('takes', word):\n",
        "        print(word)"
      ]
    },
    {
      "cell_type": "markdown",
      "id": "7f279f2f",
      "metadata": {
        "id": "7f279f2f"
      },
      "source": [
        "### Exercise\n",
        "\n",
        "Python provides a built-in function called `reversed` that takes as an argument a sequence of elements -- like a list or string -- and returns a `reversed` object that contains the elements in reverse order."
      ]
    },
    {
      "cell_type": "code",
      "execution_count": null,
      "id": "aafa5db5",
      "metadata": {
        "colab": {
          "base_uri": "https://localhost:8080/"
        },
        "id": "aafa5db5",
        "outputId": "2f0c0dfc-c573-4a6f-bd36-05b3c60fae6d"
      },
      "outputs": [
        {
          "output_type": "execute_result",
          "data": {
            "text/plain": [
              "<reversed at 0x7a018057f3a0>"
            ]
          },
          "metadata": {},
          "execution_count": 90
        }
      ],
      "source": [
        "reversed('parrot')"
      ]
    },
    {
      "cell_type": "markdown",
      "id": "0f95c76f",
      "metadata": {
        "id": "0f95c76f"
      },
      "source": [
        "If you want the reversed elements in a list, you can use the `list` function."
      ]
    },
    {
      "cell_type": "code",
      "execution_count": null,
      "id": "06cbb42a",
      "metadata": {
        "colab": {
          "base_uri": "https://localhost:8080/"
        },
        "id": "06cbb42a",
        "outputId": "8ce6cf7b-ede4-475f-c95f-666ea562be8a"
      },
      "outputs": [
        {
          "output_type": "execute_result",
          "data": {
            "text/plain": [
              "['t', 'o', 'r', 'r', 'a', 'p']"
            ]
          },
          "metadata": {},
          "execution_count": 91
        }
      ],
      "source": [
        "list(reversed('parrot'))"
      ]
    },
    {
      "cell_type": "markdown",
      "id": "8fc79a2f",
      "metadata": {
        "id": "8fc79a2f"
      },
      "source": [
        "Of if you want them in a string, you can use the `join` method."
      ]
    },
    {
      "cell_type": "code",
      "execution_count": null,
      "id": "18a73205",
      "metadata": {
        "colab": {
          "base_uri": "https://localhost:8080/",
          "height": 35
        },
        "id": "18a73205",
        "outputId": "f86731dd-3683-4240-f19b-b9aab838d213"
      },
      "outputs": [
        {
          "output_type": "execute_result",
          "data": {
            "text/plain": [
              "'torrap'"
            ],
            "application/vnd.google.colaboratory.intrinsic+json": {
              "type": "string"
            }
          },
          "metadata": {},
          "execution_count": 92
        }
      ],
      "source": [
        "''.join(reversed('parrot'))"
      ]
    },
    {
      "cell_type": "markdown",
      "id": "ec4ce196",
      "metadata": {
        "id": "ec4ce196"
      },
      "source": [
        "So we can write a function that reverses a word like this."
      ]
    },
    {
      "cell_type": "code",
      "execution_count": null,
      "id": "408932cb",
      "metadata": {
        "id": "408932cb"
      },
      "outputs": [],
      "source": [
        "def reverse_word(word):\n",
        "    return ''.join(reversed(word))"
      ]
    },
    {
      "cell_type": "markdown",
      "id": "21550b5f",
      "metadata": {
        "id": "21550b5f"
      },
      "source": [
        "A palindrome is a word that is spelled the same backward and forward, like \"noon\" and \"rotator\".\n",
        "Write a function called `is_palindrome` that takes a string argument and returns `True` if it is a palindrome and `False` otherwise."
      ]
    },
    {
      "cell_type": "markdown",
      "id": "3748b4e0",
      "metadata": {
        "tags": [],
        "id": "3748b4e0"
      },
      "source": [
        "Here's an outline of the function with doctests you can use to check your function."
      ]
    },
    {
      "cell_type": "code",
      "execution_count": null,
      "id": "9179d51c",
      "metadata": {
        "tags": [],
        "id": "9179d51c"
      },
      "outputs": [],
      "source": [
        "def is_palindrome(word):\n",
        "    \"\"\"Check if a word is a palindrome.\n",
        "\n",
        "    >>> is_palindrome('bob')\n",
        "    True\n",
        "    >>> is_palindrome('alice')\n",
        "    False\n",
        "    >>> is_palindrome('a')\n",
        "    True\n",
        "    >>> is_palindrome('')\n",
        "    True\n",
        "    \"\"\"\n",
        "    return False"
      ]
    },
    {
      "cell_type": "code",
      "execution_count": null,
      "id": "16d493ad",
      "metadata": {
        "id": "16d493ad"
      },
      "outputs": [],
      "source": [
        "def is_palindrome(word):\n",
        "    return ''.join(reversed(word))"
      ]
    },
    {
      "cell_type": "code",
      "execution_count": null,
      "id": "33c9b4ec",
      "metadata": {
        "tags": [],
        "id": "33c9b4ec"
      },
      "outputs": [],
      "source": [
        "run_doctests(is_palindrome)"
      ]
    },
    {
      "cell_type": "markdown",
      "id": "ad857abf",
      "metadata": {
        "id": "ad857abf"
      },
      "source": [
        "You can use the following loop to find all of the palindromes in the word list with at least 7 letters."
      ]
    },
    {
      "cell_type": "code",
      "execution_count": null,
      "id": "fea01394",
      "metadata": {
        "tags": [],
        "colab": {
          "base_uri": "https://localhost:8080/"
        },
        "id": "fea01394",
        "outputId": "17b521ae-01f4-42b8-d266-6fc1f437bb6d"
      },
      "outputs": [
        {
          "output_type": "stream",
          "name": "stdout",
          "text": [
            "\u001b[1;30;43mStreaming output truncated to the last 5000 lines.\u001b[0m\n",
            "unpaired\n",
            "unparalleled\n",
            "unpardonable\n",
            "unparted\n",
            "unpatriotic\n",
            "unpaved\n",
            "unpaying\n",
            "unpegged\n",
            "unpegging\n",
            "unpenned\n",
            "unpenning\n",
            "unpeople\n",
            "unpeopled\n",
            "unpeoples\n",
            "unpeopling\n",
            "unperson\n",
            "unpersons\n",
            "unpicked\n",
            "unpicking\n",
            "unpicks\n",
            "unpiled\n",
            "unpiles\n",
            "unpiling\n",
            "unpinned\n",
            "unpinning\n",
            "unpitied\n",
            "unplaced\n",
            "unplait\n",
            "unplaited\n",
            "unplaiting\n",
            "unplaits\n",
            "unplayed\n",
            "unpleasant\n",
            "unpleasantly\n",
            "unpleasantness\n",
            "unpleasantnesses\n",
            "unpliant\n",
            "unplowed\n",
            "unplugged\n",
            "unplugging\n",
            "unplugs\n",
            "unpoetic\n",
            "unpoised\n",
            "unpolite\n",
            "unpolled\n",
            "unpopular\n",
            "unpopularities\n",
            "unpopularity\n",
            "unposed\n",
            "unposted\n",
            "unprecedented\n",
            "unpredictable\n",
            "unpredictably\n",
            "unprejudiced\n",
            "unprepared\n",
            "unpretentious\n",
            "unpretty\n",
            "unpriced\n",
            "unprimed\n",
            "unprincipled\n",
            "unprinted\n",
            "unprized\n",
            "unprobed\n",
            "unproductive\n",
            "unprofessional\n",
            "unprofitable\n",
            "unprotected\n",
            "unproved\n",
            "unproven\n",
            "unprovoked\n",
            "unpruned\n",
            "unpucker\n",
            "unpuckered\n",
            "unpuckering\n",
            "unpuckers\n",
            "unpunished\n",
            "unpurged\n",
            "unpuzzle\n",
            "unpuzzled\n",
            "unpuzzles\n",
            "unpuzzling\n",
            "unqualified\n",
            "unquantifiable\n",
            "unquenchable\n",
            "unquestionable\n",
            "unquestionably\n",
            "unquestioning\n",
            "unquiet\n",
            "unquieter\n",
            "unquietest\n",
            "unquiets\n",
            "unquote\n",
            "unquoted\n",
            "unquotes\n",
            "unquoting\n",
            "unraised\n",
            "unraked\n",
            "unranked\n",
            "unrated\n",
            "unravel\n",
            "unraveled\n",
            "unraveling\n",
            "unravelled\n",
            "unravelling\n",
            "unravels\n",
            "unrazed\n",
            "unreachable\n",
            "unreadable\n",
            "unreadier\n",
            "unreadiest\n",
            "unready\n",
            "unrealistic\n",
            "unrealities\n",
            "unreality\n",
            "unreally\n",
            "unreason\n",
            "unreasonable\n",
            "unreasonably\n",
            "unreasoned\n",
            "unreasoning\n",
            "unreasons\n",
            "unreeled\n",
            "unreeler\n",
            "unreelers\n",
            "unreeling\n",
            "unreels\n",
            "unreeve\n",
            "unreeved\n",
            "unreeves\n",
            "unreeving\n",
            "unrefined\n",
            "unrelated\n",
            "unrelenting\n",
            "unrelentingly\n",
            "unreliable\n",
            "unremembered\n",
            "unrented\n",
            "unrepaid\n",
            "unrepair\n",
            "unrepairs\n",
            "unrepentant\n",
            "unrequited\n",
            "unresolved\n",
            "unresponsive\n",
            "unrested\n",
            "unrestrained\n",
            "unrestricted\n",
            "unrests\n",
            "unrewarding\n",
            "unrhymed\n",
            "unriddle\n",
            "unriddled\n",
            "unriddles\n",
            "unriddling\n",
            "unrifled\n",
            "unrigged\n",
            "unrigging\n",
            "unrimed\n",
            "unrinsed\n",
            "unripely\n",
            "unriper\n",
            "unripest\n",
            "unripped\n",
            "unripping\n",
            "unrisen\n",
            "unrivaled\n",
            "unrivalled\n",
            "unrobed\n",
            "unrobes\n",
            "unrobing\n",
            "unrolled\n",
            "unrolling\n",
            "unrolls\n",
            "unroofed\n",
            "unroofing\n",
            "unroofs\n",
            "unrooted\n",
            "unrooting\n",
            "unroots\n",
            "unrough\n",
            "unround\n",
            "unrounded\n",
            "unrounding\n",
            "unrounds\n",
            "unroven\n",
            "unruffled\n",
            "unruled\n",
            "unrulier\n",
            "unruliest\n",
            "unruliness\n",
            "unrulinesses\n",
            "unrushed\n",
            "unsaddle\n",
            "unsaddled\n",
            "unsaddles\n",
            "unsaddling\n",
            "unsafely\n",
            "unsafeties\n",
            "unsafety\n",
            "unsalted\n",
            "unsanitary\n",
            "unsated\n",
            "unsatisfactory\n",
            "unsatisfied\n",
            "unsatisfying\n",
            "unsaved\n",
            "unsavory\n",
            "unsawed\n",
            "unsaying\n",
            "unscaled\n",
            "unscathed\n",
            "unscented\n",
            "unscheduled\n",
            "unscientific\n",
            "unscramble\n",
            "unscrambled\n",
            "unscrambles\n",
            "unscrambling\n",
            "unscrew\n",
            "unscrewed\n",
            "unscrewing\n",
            "unscrews\n",
            "unscrupulous\n",
            "unscrupulously\n",
            "unscrupulousness\n",
            "unscrupulousnesses\n",
            "unsealed\n",
            "unsealing\n",
            "unseals\n",
            "unseamed\n",
            "unseaming\n",
            "unseams\n",
            "unseared\n",
            "unseasonable\n",
            "unseasonably\n",
            "unseasoned\n",
            "unseated\n",
            "unseating\n",
            "unseats\n",
            "unseeded\n",
            "unseeing\n",
            "unseemlier\n",
            "unseemliest\n",
            "unseemly\n",
            "unseized\n",
            "unselfish\n",
            "unselfishly\n",
            "unselfishness\n",
            "unselfishnesses\n",
            "unserved\n",
            "unsetting\n",
            "unsettle\n",
            "unsettled\n",
            "unsettles\n",
            "unsettling\n",
            "unsewed\n",
            "unsewing\n",
            "unsexed\n",
            "unsexes\n",
            "unsexing\n",
            "unsexual\n",
            "unshaded\n",
            "unshaken\n",
            "unshamed\n",
            "unshaped\n",
            "unshapen\n",
            "unshared\n",
            "unsharp\n",
            "unshaved\n",
            "unshaven\n",
            "unshell\n",
            "unshelled\n",
            "unshelling\n",
            "unshells\n",
            "unshift\n",
            "unshifted\n",
            "unshifting\n",
            "unshifts\n",
            "unshipped\n",
            "unshipping\n",
            "unships\n",
            "unshorn\n",
            "unshrunk\n",
            "unsicker\n",
            "unsifted\n",
            "unsight\n",
            "unsighted\n",
            "unsighting\n",
            "unsights\n",
            "unsigned\n",
            "unsilent\n",
            "unsinful\n",
            "unsized\n",
            "unskilled\n",
            "unskillful\n",
            "unskillfully\n",
            "unslaked\n",
            "unsling\n",
            "unslinging\n",
            "unslings\n",
            "unslung\n",
            "unsmoked\n",
            "unsnapped\n",
            "unsnapping\n",
            "unsnaps\n",
            "unsnarl\n",
            "unsnarled\n",
            "unsnarling\n",
            "unsnarls\n",
            "unsoaked\n",
            "unsober\n",
            "unsocial\n",
            "unsoiled\n",
            "unsolder\n",
            "unsoldered\n",
            "unsoldering\n",
            "unsolders\n",
            "unsolicited\n",
            "unsolid\n",
            "unsolved\n",
            "unsoncy\n",
            "unsonsie\n",
            "unsonsy\n",
            "unsophisticated\n",
            "unsorted\n",
            "unsought\n",
            "unsound\n",
            "unsounder\n",
            "unsoundest\n",
            "unsoundly\n",
            "unsoundness\n",
            "unsoundnesses\n",
            "unsoured\n",
            "unsowed\n",
            "unspeak\n",
            "unspeakable\n",
            "unspeakably\n",
            "unspeaking\n",
            "unspeaks\n",
            "unspecified\n",
            "unspent\n",
            "unsphere\n",
            "unsphered\n",
            "unspheres\n",
            "unsphering\n",
            "unspilt\n",
            "unsplit\n",
            "unspoiled\n",
            "unspoilt\n",
            "unspoke\n",
            "unspoken\n",
            "unsprung\n",
            "unstable\n",
            "unstabler\n",
            "unstablest\n",
            "unstably\n",
            "unstack\n",
            "unstacked\n",
            "unstacking\n",
            "unstacks\n",
            "unstate\n",
            "unstated\n",
            "unstates\n",
            "unstating\n",
            "unsteadied\n",
            "unsteadier\n",
            "unsteadies\n",
            "unsteadiest\n",
            "unsteadily\n",
            "unsteadiness\n",
            "unsteadinesses\n",
            "unsteady\n",
            "unsteadying\n",
            "unsteel\n",
            "unsteeled\n",
            "unsteeling\n",
            "unsteels\n",
            "unstepped\n",
            "unstepping\n",
            "unsteps\n",
            "unstick\n",
            "unsticked\n",
            "unsticking\n",
            "unsticks\n",
            "unstopped\n",
            "unstopping\n",
            "unstops\n",
            "unstrap\n",
            "unstrapped\n",
            "unstrapping\n",
            "unstraps\n",
            "unstress\n",
            "unstresses\n",
            "unstring\n",
            "unstringing\n",
            "unstrings\n",
            "unstructured\n",
            "unstrung\n",
            "unstung\n",
            "unsubstantiated\n",
            "unsubtle\n",
            "unsuccessful\n",
            "unsuited\n",
            "unsurely\n",
            "unswathe\n",
            "unswathed\n",
            "unswathes\n",
            "unswathing\n",
            "unswayed\n",
            "unswear\n",
            "unswearing\n",
            "unswears\n",
            "unswept\n",
            "unswore\n",
            "unsworn\n",
            "untacked\n",
            "untacking\n",
            "untacks\n",
            "untagged\n",
            "untaken\n",
            "untamed\n",
            "untangle\n",
            "untangled\n",
            "untangles\n",
            "untangling\n",
            "untanned\n",
            "untapped\n",
            "untasted\n",
            "untaught\n",
            "untaxed\n",
            "unteach\n",
            "unteaches\n",
            "unteaching\n",
            "untended\n",
            "untested\n",
            "untether\n",
            "untethered\n",
            "untethering\n",
            "untethers\n",
            "unthawed\n",
            "unthink\n",
            "unthinkable\n",
            "unthinking\n",
            "unthinkingly\n",
            "unthinks\n",
            "unthought\n",
            "unthread\n",
            "unthreaded\n",
            "unthreading\n",
            "unthreads\n",
            "unthrone\n",
            "unthroned\n",
            "unthrones\n",
            "unthroning\n",
            "untidied\n",
            "untidier\n",
            "untidies\n",
            "untidiest\n",
            "untidily\n",
            "untidying\n",
            "untilled\n",
            "untilted\n",
            "untimelier\n",
            "untimeliest\n",
            "untimely\n",
            "untinged\n",
            "untired\n",
            "untiring\n",
            "untitled\n",
            "untoward\n",
            "untraced\n",
            "untrained\n",
            "untread\n",
            "untreading\n",
            "untreads\n",
            "untreated\n",
            "untried\n",
            "untrimmed\n",
            "untrimming\n",
            "untrims\n",
            "untrodden\n",
            "untruer\n",
            "untruest\n",
            "untruly\n",
            "untruss\n",
            "untrussed\n",
            "untrusses\n",
            "untrussing\n",
            "untrustworthy\n",
            "untrusty\n",
            "untruth\n",
            "untruthful\n",
            "untruths\n",
            "untucked\n",
            "untucking\n",
            "untucks\n",
            "untufted\n",
            "untuned\n",
            "untunes\n",
            "untuning\n",
            "unturned\n",
            "untwine\n",
            "untwined\n",
            "untwines\n",
            "untwining\n",
            "untwist\n",
            "untwisted\n",
            "untwisting\n",
            "untwists\n",
            "untying\n",
            "ununited\n",
            "unurged\n",
            "unusable\n",
            "unusual\n",
            "unvalued\n",
            "unvaried\n",
            "unvarying\n",
            "unveiled\n",
            "unveiling\n",
            "unveils\n",
            "unveined\n",
            "unverified\n",
            "unversed\n",
            "unvexed\n",
            "unviable\n",
            "unvocal\n",
            "unvoice\n",
            "unvoiced\n",
            "unvoices\n",
            "unvoicing\n",
            "unwalled\n",
            "unwanted\n",
            "unwarier\n",
            "unwariest\n",
            "unwarily\n",
            "unwarmed\n",
            "unwarned\n",
            "unwarped\n",
            "unwarranted\n",
            "unwashed\n",
            "unwasheds\n",
            "unwasted\n",
            "unwavering\n",
            "unwaxed\n",
            "unweaned\n",
            "unweary\n",
            "unweave\n",
            "unweaves\n",
            "unweaving\n",
            "unwedded\n",
            "unweeded\n",
            "unweeping\n",
            "unweight\n",
            "unweighted\n",
            "unweighting\n",
            "unweights\n",
            "unwelcome\n",
            "unwelded\n",
            "unwetted\n",
            "unwholesome\n",
            "unwieldier\n",
            "unwieldiest\n",
            "unwieldy\n",
            "unwifely\n",
            "unwilled\n",
            "unwilling\n",
            "unwillingly\n",
            "unwillingness\n",
            "unwillingnesses\n",
            "unwinder\n",
            "unwinders\n",
            "unwinding\n",
            "unwinds\n",
            "unwisdom\n",
            "unwisdoms\n",
            "unwisely\n",
            "unwiser\n",
            "unwisest\n",
            "unwished\n",
            "unwishes\n",
            "unwishing\n",
            "unwitted\n",
            "unwitting\n",
            "unwittingly\n",
            "unwonted\n",
            "unwooded\n",
            "unwooed\n",
            "unworkable\n",
            "unworked\n",
            "unworthier\n",
            "unworthies\n",
            "unworthiest\n",
            "unworthily\n",
            "unworthiness\n",
            "unworthinesses\n",
            "unworthy\n",
            "unwound\n",
            "unwoven\n",
            "unwrapped\n",
            "unwrapping\n",
            "unwraps\n",
            "unwritten\n",
            "unwrung\n",
            "unyeaned\n",
            "unyielding\n",
            "unyoked\n",
            "unyokes\n",
            "unyoking\n",
            "unzipped\n",
            "unzipping\n",
            "unzoned\n",
            "upbearer\n",
            "upbearers\n",
            "upbearing\n",
            "upbears\n",
            "upbeats\n",
            "upbinding\n",
            "upbinds\n",
            "upboiled\n",
            "upboiling\n",
            "upboils\n",
            "upborne\n",
            "upbound\n",
            "upbraid\n",
            "upbraided\n",
            "upbraiding\n",
            "upbraids\n",
            "upbringing\n",
            "upbringings\n",
            "upbuild\n",
            "upbuilding\n",
            "upbuilds\n",
            "upbuilt\n",
            "upcasting\n",
            "upcasts\n",
            "upchuck\n",
            "upchucked\n",
            "upchucking\n",
            "upchucks\n",
            "upclimb\n",
            "upclimbed\n",
            "upclimbing\n",
            "upclimbs\n",
            "upcoiled\n",
            "upcoiling\n",
            "upcoils\n",
            "upcoming\n",
            "upcurled\n",
            "upcurling\n",
            "upcurls\n",
            "upcurve\n",
            "upcurved\n",
            "upcurves\n",
            "upcurving\n",
            "updarted\n",
            "updarting\n",
            "updarts\n",
            "updated\n",
            "updater\n",
            "updaters\n",
            "updates\n",
            "updating\n",
            "updived\n",
            "updives\n",
            "updiving\n",
            "updraft\n",
            "updrafts\n",
            "updried\n",
            "updries\n",
            "updrying\n",
            "upended\n",
            "upending\n",
            "upfield\n",
            "upfling\n",
            "upflinging\n",
            "upflings\n",
            "upflowed\n",
            "upflowing\n",
            "upflows\n",
            "upflung\n",
            "upfolded\n",
            "upfolding\n",
            "upfolds\n",
            "upgather\n",
            "upgathered\n",
            "upgathering\n",
            "upgathers\n",
            "upgazed\n",
            "upgazes\n",
            "upgazing\n",
            "upgirded\n",
            "upgirding\n",
            "upgirds\n",
            "upgoing\n",
            "upgrade\n",
            "upgraded\n",
            "upgrades\n",
            "upgrading\n",
            "upgrowing\n",
            "upgrown\n",
            "upgrows\n",
            "upgrowth\n",
            "upgrowths\n",
            "upheaped\n",
            "upheaping\n",
            "upheaps\n",
            "upheaval\n",
            "upheavals\n",
            "upheave\n",
            "upheaved\n",
            "upheaver\n",
            "upheavers\n",
            "upheaves\n",
            "upheaving\n",
            "uphills\n",
            "uphoard\n",
            "uphoarded\n",
            "uphoarding\n",
            "uphoards\n",
            "upholder\n",
            "upholders\n",
            "upholding\n",
            "upholds\n",
            "upholster\n",
            "upholstered\n",
            "upholsterer\n",
            "upholsterers\n",
            "upholsteries\n",
            "upholstering\n",
            "upholsters\n",
            "upholstery\n",
            "uphroes\n",
            "upkeeps\n",
            "uplander\n",
            "uplanders\n",
            "uplands\n",
            "upleaped\n",
            "upleaping\n",
            "upleaps\n",
            "upleapt\n",
            "uplifted\n",
            "uplifter\n",
            "uplifters\n",
            "uplifting\n",
            "uplifts\n",
            "uplight\n",
            "uplighted\n",
            "uplighting\n",
            "uplights\n",
            "uppercase\n",
            "uppercut\n",
            "uppercuts\n",
            "uppercutting\n",
            "uppermost\n",
            "uppiled\n",
            "uppiles\n",
            "uppiling\n",
            "uppings\n",
            "uppishly\n",
            "uppropped\n",
            "uppropping\n",
            "upprops\n",
            "upraise\n",
            "upraised\n",
            "upraiser\n",
            "upraisers\n",
            "upraises\n",
            "upraising\n",
            "upreach\n",
            "upreached\n",
            "upreaches\n",
            "upreaching\n",
            "upreared\n",
            "uprearing\n",
            "uprears\n",
            "upright\n",
            "uprighted\n",
            "uprighting\n",
            "uprightness\n",
            "uprightnesses\n",
            "uprights\n",
            "uprisen\n",
            "upriser\n",
            "uprisers\n",
            "uprises\n",
            "uprising\n",
            "uprisings\n",
            "upriver\n",
            "uprivers\n",
            "uproarious\n",
            "uproariously\n",
            "uproars\n",
            "uprootal\n",
            "uprootals\n",
            "uprooted\n",
            "uprooter\n",
            "uprooters\n",
            "uprooting\n",
            "uproots\n",
            "uprouse\n",
            "uproused\n",
            "uprouses\n",
            "uprousing\n",
            "uprushed\n",
            "uprushes\n",
            "uprushing\n",
            "upsending\n",
            "upsends\n",
            "upsetter\n",
            "upsetters\n",
            "upsetting\n",
            "upshift\n",
            "upshifted\n",
            "upshifting\n",
            "upshifts\n",
            "upshoot\n",
            "upshooting\n",
            "upshoots\n",
            "upshots\n",
            "upsidedown\n",
            "upsides\n",
            "upsilon\n",
            "upsilons\n",
            "upsoared\n",
            "upsoaring\n",
            "upsoars\n",
            "upsprang\n",
            "upspring\n",
            "upspringing\n",
            "upsprings\n",
            "upsprung\n",
            "upstage\n",
            "upstaged\n",
            "upstages\n",
            "upstaging\n",
            "upstair\n",
            "upstairs\n",
            "upstand\n",
            "upstanding\n",
            "upstands\n",
            "upstare\n",
            "upstared\n",
            "upstares\n",
            "upstaring\n",
            "upstart\n",
            "upstarted\n",
            "upstarting\n",
            "upstarts\n",
            "upstate\n",
            "upstater\n",
            "upstaters\n",
            "upstates\n",
            "upstepped\n",
            "upstepping\n",
            "upsteps\n",
            "upstirred\n",
            "upstirring\n",
            "upstirs\n",
            "upstood\n",
            "upstream\n",
            "upstroke\n",
            "upstrokes\n",
            "upsurge\n",
            "upsurged\n",
            "upsurges\n",
            "upsurging\n",
            "upsweep\n",
            "upsweeping\n",
            "upsweeps\n",
            "upswell\n",
            "upswelled\n",
            "upswelling\n",
            "upswells\n",
            "upswept\n",
            "upswing\n",
            "upswinging\n",
            "upswings\n",
            "upswollen\n",
            "upswung\n",
            "uptakes\n",
            "uptearing\n",
            "uptears\n",
            "upthrew\n",
            "upthrow\n",
            "upthrowing\n",
            "upthrown\n",
            "upthrows\n",
            "upthrust\n",
            "upthrusting\n",
            "upthrusts\n",
            "uptight\n",
            "uptilted\n",
            "uptilting\n",
            "uptilts\n",
            "uptimes\n",
            "uptossed\n",
            "uptosses\n",
            "uptossing\n",
            "uptowner\n",
            "uptowners\n",
            "uptowns\n",
            "uptrend\n",
            "uptrends\n",
            "upturned\n",
            "upturning\n",
            "upturns\n",
            "upwafted\n",
            "upwafting\n",
            "upwafts\n",
            "upwardly\n",
            "upwards\n",
            "upwelled\n",
            "upwelling\n",
            "upwells\n",
            "upwinds\n",
            "uracils\n",
            "uraemia\n",
            "uraemias\n",
            "uraemic\n",
            "uraeuses\n",
            "uralite\n",
            "uralites\n",
            "uralitic\n",
            "uranide\n",
            "uranides\n",
            "uranism\n",
            "uranisms\n",
            "uranite\n",
            "uranites\n",
            "uranitic\n",
            "uranium\n",
            "uraniums\n",
            "uranous\n",
            "uranylic\n",
            "uranyls\n",
            "urbanely\n",
            "urbaner\n",
            "urbanest\n",
            "urbanise\n",
            "urbanised\n",
            "urbanises\n",
            "urbanising\n",
            "urbanism\n",
            "urbanisms\n",
            "urbanist\n",
            "urbanists\n",
            "urbanite\n",
            "urbanites\n",
            "urbanities\n",
            "urbanity\n",
            "urbanize\n",
            "urbanized\n",
            "urbanizes\n",
            "urbanizing\n",
            "urchins\n",
            "ureases\n",
            "uredial\n",
            "uredinia\n",
            "uredium\n",
            "ureides\n",
            "uremias\n",
            "ureteral\n",
            "ureteric\n",
            "ureters\n",
            "urethan\n",
            "urethane\n",
            "urethanes\n",
            "urethans\n",
            "urethra\n",
            "urethrae\n",
            "urethral\n",
            "urethras\n",
            "urgencies\n",
            "urgency\n",
            "urgently\n",
            "urgingly\n",
            "uridine\n",
            "uridines\n",
            "urinals\n",
            "urinalysis\n",
            "urinaries\n",
            "urinary\n",
            "urinate\n",
            "urinated\n",
            "urinates\n",
            "urinating\n",
            "urination\n",
            "urinations\n",
            "urinemia\n",
            "urinemias\n",
            "urinemic\n",
            "urinose\n",
            "urinous\n",
            "urnlike\n",
            "urochord\n",
            "urochords\n",
            "urodele\n",
            "urodeles\n",
            "urolagnia\n",
            "urolagnias\n",
            "urolith\n",
            "uroliths\n",
            "urologic\n",
            "urologies\n",
            "urology\n",
            "uropodal\n",
            "uropods\n",
            "uroscopies\n",
            "uroscopy\n",
            "urostyle\n",
            "urostyles\n",
            "ursiform\n",
            "urticant\n",
            "urticants\n",
            "urticate\n",
            "urticated\n",
            "urticates\n",
            "urticating\n",
            "urushiol\n",
            "urushiols\n",
            "usability\n",
            "usances\n",
            "usaunce\n",
            "usaunces\n",
            "useable\n",
            "useably\n",
            "usefully\n",
            "usefulness\n",
            "useless\n",
            "uselessly\n",
            "uselessness\n",
            "uselessnesses\n",
            "ushered\n",
            "usherette\n",
            "usherettes\n",
            "ushering\n",
            "usquabae\n",
            "usquabaes\n",
            "usquebae\n",
            "usquebaes\n",
            "ustulate\n",
            "usually\n",
            "usufruct\n",
            "usufructs\n",
            "usurers\n",
            "usuries\n",
            "usurious\n",
            "usurped\n",
            "usurper\n",
            "usurpers\n",
            "usurping\n",
            "utensil\n",
            "utensils\n",
            "uterine\n",
            "uteruses\n",
            "utilidor\n",
            "utilidors\n",
            "utilise\n",
            "utilised\n",
            "utiliser\n",
            "utilisers\n",
            "utilises\n",
            "utilising\n",
            "utilitarian\n",
            "utilities\n",
            "utility\n",
            "utilization\n",
            "utilize\n",
            "utilized\n",
            "utilizer\n",
            "utilizers\n",
            "utilizes\n",
            "utilizing\n",
            "utmosts\n",
            "utopian\n",
            "utopians\n",
            "utopias\n",
            "utopism\n",
            "utopisms\n",
            "utopist\n",
            "utopists\n",
            "utricle\n",
            "utricles\n",
            "utriculi\n",
            "utterance\n",
            "utterances\n",
            "uttered\n",
            "utterer\n",
            "utterers\n",
            "uttering\n",
            "utterly\n",
            "uveitic\n",
            "uveitis\n",
            "uveitises\n",
            "uvularly\n",
            "uvulars\n",
            "uvulitis\n",
            "uvulitises\n",
            "uxorial\n",
            "uxorious\n",
            "vacancies\n",
            "vacancy\n",
            "vacantly\n",
            "vacated\n",
            "vacates\n",
            "vacating\n",
            "vacation\n",
            "vacationed\n",
            "vacationer\n",
            "vacationers\n",
            "vacationing\n",
            "vacations\n",
            "vaccina\n",
            "vaccinal\n",
            "vaccinas\n",
            "vaccinate\n",
            "vaccinated\n",
            "vaccinates\n",
            "vaccinating\n",
            "vaccination\n",
            "vaccinations\n",
            "vaccine\n",
            "vaccines\n",
            "vaccinia\n",
            "vaccinias\n",
            "vacillate\n",
            "vacillated\n",
            "vacillates\n",
            "vacillating\n",
            "vacillation\n",
            "vacillations\n",
            "vacuities\n",
            "vacuity\n",
            "vacuolar\n",
            "vacuole\n",
            "vacuoles\n",
            "vacuous\n",
            "vacuously\n",
            "vacuousness\n",
            "vacuousnesses\n",
            "vacuumed\n",
            "vacuuming\n",
            "vacuums\n",
            "vagabond\n",
            "vagabonded\n",
            "vagabonding\n",
            "vagabonds\n",
            "vagally\n",
            "vagaries\n",
            "vagilities\n",
            "vagility\n",
            "vaginae\n",
            "vaginal\n",
            "vaginas\n",
            "vaginate\n",
            "vagotomies\n",
            "vagotomy\n",
            "vagrancies\n",
            "vagrancy\n",
            "vagrant\n",
            "vagrants\n",
            "vaguely\n",
            "vagueness\n",
            "vaguenesses\n",
            "vaguest\n",
            "vahines\n",
            "vailing\n",
            "vainest\n",
            "vainness\n",
            "vainnesses\n",
            "vakeels\n",
            "valance\n",
            "valanced\n",
            "valances\n",
            "valancing\n",
            "valedictorian\n",
            "valedictorians\n",
            "valedictories\n",
            "valedictory\n",
            "valence\n",
            "valences\n",
            "valencia\n",
            "valencias\n",
            "valencies\n",
            "valency\n",
            "valentine\n",
            "valentines\n",
            "valerate\n",
            "valerates\n",
            "valerian\n",
            "valerians\n",
            "valeric\n",
            "valeted\n",
            "valeting\n",
            "valgoid\n",
            "valguses\n",
            "valiance\n",
            "valiances\n",
            "valiancies\n",
            "valiancy\n",
            "valiant\n",
            "valiantly\n",
            "valiants\n",
            "validate\n",
            "validated\n",
            "validates\n",
            "validating\n",
            "validation\n",
            "validations\n",
            "validities\n",
            "validity\n",
            "validly\n",
            "validness\n",
            "validnesses\n",
            "valines\n",
            "valises\n",
            "valkyrie\n",
            "valkyries\n",
            "valkyrs\n",
            "vallate\n",
            "valleys\n",
            "valonia\n",
            "valonias\n",
            "valorise\n",
            "valorised\n",
            "valorises\n",
            "valorising\n",
            "valorize\n",
            "valorized\n",
            "valorizes\n",
            "valorizing\n",
            "valorous\n",
            "valours\n",
            "valuable\n",
            "valuables\n",
            "valuably\n",
            "valuate\n",
            "valuated\n",
            "valuates\n",
            "valuating\n",
            "valuation\n",
            "valuations\n",
            "valuator\n",
            "valuators\n",
            "valueless\n",
            "valuers\n",
            "valuing\n",
            "valutas\n",
            "valvate\n",
            "valveless\n",
            "valvelet\n",
            "valvelets\n",
            "valving\n",
            "valvula\n",
            "valvulae\n",
            "valvular\n",
            "valvule\n",
            "valvules\n",
            "vambrace\n",
            "vambraces\n",
            "vamoose\n",
            "vamoosed\n",
            "vamooses\n",
            "vamoosing\n",
            "vamosed\n",
            "vamoses\n",
            "vamosing\n",
            "vampers\n",
            "vamping\n",
            "vampire\n",
            "vampires\n",
            "vampiric\n",
            "vampish\n",
            "vanadate\n",
            "vanadates\n",
            "vanadic\n",
            "vanadium\n",
            "vanadiums\n",
            "vanadous\n",
            "vandalic\n",
            "vandalism\n",
            "vandalisms\n",
            "vandalize\n",
            "vandalized\n",
            "vandalizes\n",
            "vandalizing\n",
            "vandals\n",
            "vandyke\n",
            "vandyked\n",
            "vandykes\n",
            "vanguard\n",
            "vanguards\n",
            "vanilla\n",
            "vanillas\n",
            "vanillic\n",
            "vanillin\n",
            "vanillins\n",
            "vanished\n",
            "vanisher\n",
            "vanishers\n",
            "vanishes\n",
            "vanishing\n",
            "vanitied\n",
            "vanities\n",
            "vanquish\n",
            "vanquished\n",
            "vanquishes\n",
            "vanquishing\n",
            "vantage\n",
            "vantages\n",
            "vanward\n",
            "vapidities\n",
            "vapidity\n",
            "vapidly\n",
            "vapidness\n",
            "vapidnesses\n",
            "vapored\n",
            "vaporer\n",
            "vaporers\n",
            "vaporing\n",
            "vaporings\n",
            "vaporise\n",
            "vaporised\n",
            "vaporises\n",
            "vaporish\n",
            "vaporising\n",
            "vaporization\n",
            "vaporizations\n",
            "vaporize\n",
            "vaporized\n",
            "vaporizes\n",
            "vaporizing\n",
            "vaporous\n",
            "vapoured\n",
            "vapourer\n",
            "vapourers\n",
            "vapouring\n",
            "vapours\n",
            "vapoury\n",
            "vaquero\n",
            "vaqueros\n",
            "variabilities\n",
            "variability\n",
            "variable\n",
            "variableness\n",
            "variablenesses\n",
            "variables\n",
            "variably\n",
            "variance\n",
            "variances\n",
            "variant\n",
            "variants\n",
            "variate\n",
            "variated\n",
            "variates\n",
            "variating\n",
            "variation\n",
            "variations\n",
            "varices\n",
            "varicose\n",
            "variedly\n",
            "variegate\n",
            "variegated\n",
            "variegates\n",
            "variegating\n",
            "variegation\n",
            "variegations\n",
            "variers\n",
            "varietal\n",
            "varieties\n",
            "variety\n",
            "variform\n",
            "variola\n",
            "variolar\n",
            "variolas\n",
            "variole\n",
            "varioles\n",
            "variorum\n",
            "variorums\n",
            "various\n",
            "variously\n",
            "varistor\n",
            "varistors\n",
            "varletries\n",
            "varletry\n",
            "varlets\n",
            "varment\n",
            "varments\n",
            "varmint\n",
            "varmints\n",
            "varnish\n",
            "varnished\n",
            "varnishes\n",
            "varnishing\n",
            "varnishy\n",
            "varsities\n",
            "varsity\n",
            "varuses\n",
            "varying\n",
            "vascula\n",
            "vascular\n",
            "vasculum\n",
            "vasculums\n",
            "vaselike\n",
            "vasiform\n",
            "vassalage\n",
            "vassalages\n",
            "vassals\n",
            "vastest\n",
            "vastier\n",
            "vastiest\n",
            "vastities\n",
            "vastity\n",
            "vastness\n",
            "vastnesses\n",
            "vatfuls\n",
            "vatical\n",
            "vaticide\n",
            "vaticides\n",
            "vatting\n",
            "vaudeville\n",
            "vaudevilles\n",
            "vaulted\n",
            "vaulter\n",
            "vaulters\n",
            "vaultier\n",
            "vaultiest\n",
            "vaulting\n",
            "vaultings\n",
            "vaunted\n",
            "vaunter\n",
            "vaunters\n",
            "vauntful\n",
            "vauntie\n",
            "vaunting\n",
            "vavasor\n",
            "vavasors\n",
            "vavasour\n",
            "vavasours\n",
            "vavassor\n",
            "vavassors\n",
            "vawards\n",
            "vawntie\n",
            "vealers\n",
            "vealier\n",
            "vealiest\n",
            "vealing\n",
            "vectored\n",
            "vectoring\n",
            "vectors\n",
            "vedalia\n",
            "vedalias\n",
            "vedette\n",
            "vedettes\n",
            "veepees\n",
            "veeries\n",
            "veering\n",
            "veganism\n",
            "veganisms\n",
            "vegetable\n",
            "vegetables\n",
            "vegetal\n",
            "vegetant\n",
            "vegetarian\n",
            "vegetarianism\n",
            "vegetarianisms\n",
            "vegetarians\n",
            "vegetate\n",
            "vegetated\n",
            "vegetates\n",
            "vegetating\n",
            "vegetation\n",
            "vegetational\n",
            "vegetations\n",
            "vegetist\n",
            "vegetists\n",
            "vegetive\n",
            "vehemence\n",
            "vehemences\n",
            "vehement\n",
            "vehemently\n",
            "vehicle\n",
            "vehicles\n",
            "vehicular\n",
            "veiledly\n",
            "veilers\n",
            "veiling\n",
            "veilings\n",
            "veillike\n",
            "veiners\n",
            "veinier\n",
            "veiniest\n",
            "veining\n",
            "veinings\n",
            "veinless\n",
            "veinlet\n",
            "veinlets\n",
            "veinlike\n",
            "veinule\n",
            "veinules\n",
            "veinulet\n",
            "veinulets\n",
            "velamen\n",
            "velamina\n",
            "velaria\n",
            "velarium\n",
            "velarize\n",
            "velarized\n",
            "velarizes\n",
            "velarizing\n",
            "veliger\n",
            "veligers\n",
            "velites\n",
            "velleities\n",
            "velleity\n",
            "vellums\n",
            "velocities\n",
            "velocity\n",
            "velours\n",
            "veloute\n",
            "veloutes\n",
            "velured\n",
            "velures\n",
            "veluring\n",
            "velveret\n",
            "velverets\n",
            "velveted\n",
            "velvets\n",
            "velvety\n",
            "venalities\n",
            "venality\n",
            "venally\n",
            "venatic\n",
            "venation\n",
            "venations\n",
            "vendable\n",
            "vendace\n",
            "vendaces\n",
            "vendees\n",
            "venders\n",
            "vendetta\n",
            "vendettas\n",
            "vendible\n",
            "vendibles\n",
            "vendibly\n",
            "vending\n",
            "vendors\n",
            "vendues\n",
            "veneered\n",
            "veneerer\n",
            "veneerers\n",
            "veneering\n",
            "veneers\n",
            "venenate\n",
            "venenated\n",
            "venenates\n",
            "venenating\n",
            "venenose\n",
            "venerable\n",
            "venerate\n",
            "venerated\n",
            "venerates\n",
            "venerating\n",
            "veneration\n",
            "venerations\n",
            "venereal\n",
            "veneries\n",
            "venetian\n",
            "venetians\n",
            "vengeance\n",
            "vengeances\n",
            "vengeful\n",
            "vengefully\n",
            "venging\n",
            "venially\n",
            "venines\n",
            "venires\n",
            "venison\n",
            "venisons\n",
            "venomed\n",
            "venomer\n",
            "venomers\n",
            "venoming\n",
            "venomous\n",
            "venosities\n",
            "venosity\n",
            "venously\n",
            "ventage\n",
            "ventages\n",
            "ventail\n",
            "ventails\n",
            "venters\n",
            "ventilate\n",
            "ventilated\n",
            "ventilates\n",
            "ventilating\n",
            "ventilation\n",
            "ventilations\n",
            "ventilator\n",
            "ventilators\n",
            "venting\n",
            "ventless\n",
            "ventral\n",
            "ventrals\n",
            "ventricle\n",
            "ventricles\n",
            "ventriloquism\n",
            "ventriloquisms\n",
            "ventriloquist\n",
            "ventriloquists\n",
            "ventriloquy\n",
            "ventriloquys\n",
            "venture\n",
            "ventured\n",
            "venturer\n",
            "venturers\n",
            "ventures\n",
            "venturesome\n",
            "venturesomely\n",
            "venturesomeness\n",
            "venturesomenesses\n",
            "venturi\n",
            "venturing\n",
            "venturis\n",
            "venular\n",
            "venules\n",
            "venulose\n",
            "venulous\n",
            "veracious\n",
            "veracities\n",
            "veracity\n",
            "veranda\n",
            "verandah\n",
            "verandahs\n",
            "verandas\n",
            "veratria\n",
            "veratrias\n",
            "veratrin\n",
            "veratrins\n",
            "veratrum\n",
            "veratrums\n",
            "verbalization\n",
            "verbalizations\n",
            "verbalize\n",
            "verbalized\n",
            "verbalizes\n",
            "verbalizing\n",
            "verbally\n",
            "verbals\n",
            "verbatim\n",
            "verbena\n",
            "verbenas\n",
            "verbiage\n",
            "verbiages\n",
            "verbids\n",
            "verbified\n",
            "verbifies\n",
            "verbify\n",
            "verbifying\n",
            "verbile\n",
            "verbiles\n",
            "verbless\n",
            "verbose\n",
            "verbosities\n",
            "verbosity\n",
            "verboten\n",
            "verdancies\n",
            "verdancy\n",
            "verdant\n",
            "verderer\n",
            "verderers\n",
            "verderor\n",
            "verderors\n",
            "verdict\n",
            "verdicts\n",
            "verdins\n",
            "verditer\n",
            "verditers\n",
            "verdure\n",
            "verdured\n",
            "verdures\n",
            "verecund\n",
            "vergence\n",
            "vergences\n",
            "vergers\n",
            "verging\n",
            "verglas\n",
            "verglases\n",
            "veridic\n",
            "veriest\n",
            "verifiable\n",
            "verification\n",
            "verifications\n",
            "verified\n",
            "verifier\n",
            "verifiers\n",
            "verifies\n",
            "verifying\n",
            "verismo\n",
            "verismos\n",
            "verisms\n",
            "veristic\n",
            "verists\n",
            "veritable\n",
            "veritably\n",
            "veritas\n",
            "veritates\n",
            "verities\n",
            "verjuice\n",
            "verjuices\n",
            "vermeil\n",
            "vermeils\n",
            "vermian\n",
            "vermicelli\n",
            "vermicellis\n",
            "vermoulu\n",
            "vermouth\n",
            "vermouths\n",
            "vermuth\n",
            "vermuths\n",
            "vernacle\n",
            "vernacles\n",
            "vernacular\n",
            "vernaculars\n",
            "vernally\n",
            "vernicle\n",
            "vernicles\n",
            "vernier\n",
            "verniers\n",
            "vernixes\n",
            "veronica\n",
            "veronicas\n",
            "verruca\n",
            "verrucae\n",
            "versant\n",
            "versants\n",
            "versatile\n",
            "versatilities\n",
            "versatility\n",
            "verseman\n",
            "versemen\n",
            "versers\n",
            "versets\n",
            "versicle\n",
            "versicles\n",
            "versified\n",
            "versifies\n",
            "versify\n",
            "versifying\n",
            "versine\n",
            "versines\n",
            "versing\n",
            "version\n",
            "versions\n",
            "verstes\n",
            "vertebra\n",
            "vertebrae\n",
            "vertebral\n",
            "vertebras\n",
            "vertebrate\n",
            "vertebrates\n",
            "vertexes\n",
            "vertical\n",
            "vertically\n",
            "verticalness\n",
            "verticalnesses\n",
            "verticals\n",
            "vertices\n",
            "verticil\n",
            "verticils\n",
            "vertigines\n",
            "vertigo\n",
            "vertigoes\n",
            "vertigos\n",
            "vervain\n",
            "vervains\n",
            "vervets\n",
            "vesicae\n",
            "vesical\n",
            "vesicant\n",
            "vesicants\n",
            "vesicate\n",
            "vesicated\n",
            "vesicates\n",
            "vesicating\n",
            "vesicle\n",
            "vesicles\n",
            "vesicula\n",
            "vesiculae\n",
            "vesicular\n",
            "vesigia\n",
            "vesperal\n",
            "vesperals\n",
            "vespers\n",
            "vespiaries\n",
            "vespiary\n",
            "vespids\n",
            "vespine\n",
            "vesseled\n",
            "vessels\n",
            "vestally\n",
            "vestals\n",
            "vestees\n",
            "vestiaries\n",
            "vestiary\n",
            "vestibular\n",
            "vestibule\n",
            "vestibules\n",
            "vestige\n",
            "vestiges\n",
            "vestigial\n",
            "vestigially\n",
            "vesting\n",
            "vestings\n",
            "vestless\n",
            "vestlike\n",
            "vestment\n",
            "vestments\n",
            "vestral\n",
            "vestries\n",
            "vestural\n",
            "vesture\n",
            "vestured\n",
            "vestures\n",
            "vesturing\n",
            "vesuvian\n",
            "vesuvians\n",
            "vetches\n",
            "veteran\n",
            "veterans\n",
            "veterinarian\n",
            "veterinarians\n",
            "veterinary\n",
            "vetiver\n",
            "vetivers\n",
            "vetoers\n",
            "vetoing\n",
            "vetting\n",
            "vexation\n",
            "vexations\n",
            "vexatious\n",
            "vexedly\n",
            "vexilla\n",
            "vexillar\n",
            "vexillum\n",
            "vexingly\n",
            "viabilities\n",
            "viability\n",
            "viaduct\n",
            "viaducts\n",
            "vialing\n",
            "vialled\n",
            "vialling\n",
            "viatica\n",
            "viatical\n",
            "viaticum\n",
            "viaticums\n",
            "viatores\n",
            "viators\n",
            "vibioid\n",
            "vibists\n",
            "vibrance\n",
            "vibrances\n",
            "vibrancies\n",
            "vibrancy\n",
            "vibrant\n",
            "vibrants\n",
            "vibrate\n",
            "vibrated\n",
            "vibrates\n",
            "vibrating\n",
            "vibration\n",
            "vibrations\n",
            "vibrato\n",
            "vibrator\n",
            "vibrators\n",
            "vibratory\n",
            "vibratos\n",
            "vibrion\n",
            "vibrions\n",
            "vibrios\n",
            "vibrissa\n",
            "vibrissae\n",
            "viburnum\n",
            "viburnums\n",
            "vicarage\n",
            "vicarages\n",
            "vicarate\n",
            "vicarates\n",
            "vicarial\n",
            "vicariate\n",
            "vicariates\n",
            "vicarious\n",
            "vicariously\n",
            "vicariousness\n",
            "vicariousnesses\n",
            "vicarly\n",
            "viceless\n",
            "vicenary\n",
            "viceroy\n",
            "viceroys\n",
            "vichies\n",
            "vicinage\n",
            "vicinages\n",
            "vicinal\n",
            "vicinities\n",
            "vicinity\n",
            "vicious\n",
            "viciously\n",
            "viciousness\n",
            "viciousnesses\n",
            "vicissitude\n",
            "vicissitudes\n",
            "vicomte\n",
            "vicomtes\n",
            "victimization\n",
            "victimizations\n",
            "victimize\n",
            "victimized\n",
            "victimizer\n",
            "victimizers\n",
            "victimizes\n",
            "victimizing\n",
            "victims\n",
            "victoria\n",
            "victorias\n",
            "victories\n",
            "victorious\n",
            "victoriously\n",
            "victors\n",
            "victory\n",
            "victress\n",
            "victresses\n",
            "victual\n",
            "victualed\n",
            "victualing\n",
            "victualled\n",
            "victualling\n",
            "victuals\n",
            "vicugna\n",
            "vicugnas\n",
            "vicunas\n",
            "videotape\n",
            "videotaped\n",
            "videotapes\n",
            "videotaping\n",
            "vidette\n",
            "videttes\n",
            "vidicon\n",
            "vidicons\n",
            "viduities\n",
            "viduity\n",
            "viewable\n",
            "viewers\n",
            "viewier\n",
            "viewiest\n",
            "viewing\n",
            "viewings\n",
            "viewless\n",
            "viewpoint\n",
            "viewpoints\n",
            "vigilance\n",
            "vigilances\n",
            "vigilant\n",
            "vigilante\n",
            "vigilantes\n",
            "vigilantly\n",
            "vignette\n",
            "vignetted\n",
            "vignettes\n",
            "vignetting\n",
            "vigorish\n",
            "vigorishes\n",
            "vigoroso\n",
            "vigorous\n",
            "vigorously\n",
            "vigorousness\n",
            "vigorousnesses\n",
            "vigours\n",
            "vikings\n",
            "vilayet\n",
            "vilayets\n",
            "vileness\n",
            "vilenesses\n",
            "vilification\n",
            "vilifications\n",
            "vilified\n",
            "vilifier\n",
            "vilifiers\n",
            "vilifies\n",
            "vilifying\n",
            "vilipend\n",
            "vilipended\n",
            "vilipending\n",
            "vilipends\n",
            "villadom\n",
            "villadoms\n",
            "village\n",
            "villager\n",
            "villagers\n",
            "villages\n",
            "villain\n",
            "villainies\n",
            "villains\n",
            "villainy\n",
            "villatic\n",
            "villein\n",
            "villeins\n",
            "villianess\n",
            "villianesses\n",
            "villianous\n",
            "villianously\n",
            "villianousness\n",
            "villianousnesses\n",
            "villose\n",
            "villous\n",
            "viminal\n",
            "vinasse\n",
            "vinasses\n",
            "vincible\n",
            "vincristine\n",
            "vincristines\n",
            "vincula\n",
            "vinculum\n",
            "vinculums\n",
            "vindesine\n",
            "vindicate\n",
            "vindicated\n",
            "vindicates\n",
            "vindicating\n",
            "vindication\n",
            "vindications\n",
            "vindicator\n",
            "vindicators\n",
            "vindictive\n",
            "vindictively\n",
            "vindictiveness\n",
            "vindictivenesses\n",
            "vinegar\n",
            "vinegars\n",
            "vinegary\n",
            "vineries\n",
            "vineyard\n",
            "vineyards\n",
            "viniest\n",
            "vinifera\n",
            "viniferas\n",
            "vinosities\n",
            "vinosity\n",
            "vinously\n",
            "vintage\n",
            "vintager\n",
            "vintagers\n",
            "vintages\n",
            "vintner\n",
            "vintners\n",
            "vinylic\n",
            "violable\n",
            "violably\n",
            "violate\n",
            "violated\n",
            "violater\n",
            "violaters\n",
            "violates\n",
            "violating\n",
            "violation\n",
            "violations\n",
            "violator\n",
            "violators\n",
            "violence\n",
            "violences\n",
            "violent\n",
            "violently\n",
            "violets\n",
            "violinist\n",
            "violinists\n",
            "violins\n",
            "violist\n",
            "violists\n",
            "violone\n",
            "violones\n",
            "viomycin\n",
            "viomycins\n",
            "viperine\n",
            "viperish\n",
            "viperous\n",
            "viragoes\n",
            "viragos\n",
            "virally\n",
            "virelai\n",
            "virelais\n",
            "virelay\n",
            "virelays\n",
            "viremia\n",
            "viremias\n",
            "viremic\n",
            "virgate\n",
            "virgates\n",
            "virginal\n",
            "virginally\n",
            "virginals\n",
            "virgins\n",
            "virgule\n",
            "virgules\n",
            "viricide\n",
            "viricides\n",
            "viridian\n",
            "viridians\n",
            "viridities\n",
            "viridity\n",
            "virilism\n",
            "virilisms\n",
            "virilities\n",
            "virility\n",
            "virions\n",
            "virologies\n",
            "virology\n",
            "viroses\n",
            "virosis\n",
            "virtual\n",
            "virtually\n",
            "virtues\n",
            "virtuosa\n",
            "virtuosas\n",
            "virtuose\n",
            "virtuosi\n",
            "virtuosities\n",
            "virtuosity\n",
            "virtuoso\n",
            "virtuosos\n",
            "virtuous\n",
            "virtuously\n",
            "virucide\n",
            "virucides\n",
            "virulence\n",
            "virulences\n",
            "virulencies\n",
            "virulency\n",
            "virulent\n",
            "virulently\n",
            "viruses\n",
            "visaged\n",
            "visages\n",
            "visaing\n",
            "visards\n",
            "viscacha\n",
            "viscachas\n",
            "viscera\n",
            "visceral\n",
            "viscerally\n",
            "viscidities\n",
            "viscidity\n",
            "viscidly\n",
            "viscoid\n",
            "viscose\n",
            "viscoses\n",
            "viscount\n",
            "viscountess\n",
            "viscountesses\n",
            "viscounts\n",
            "viscous\n",
            "viseing\n",
            "viselike\n",
            "visibilities\n",
            "visibility\n",
            "visible\n",
            "visibly\n",
            "visional\n",
            "visionaries\n",
            "visionary\n",
            "visioned\n",
            "visioning\n",
            "visions\n",
            "visitable\n",
            "visitant\n",
            "visitants\n",
            "visitation\n",
            "visitations\n",
            "visited\n",
            "visiter\n",
            "visiters\n",
            "visiting\n",
            "visitor\n",
            "visitors\n",
            "visored\n",
            "visoring\n",
            "vistaed\n",
            "visualization\n",
            "visualizations\n",
            "visualize\n",
            "visualized\n",
            "visualizer\n",
            "visualizers\n",
            "visualizes\n",
            "visualizing\n",
            "visually\n",
            "vitalise\n",
            "vitalised\n",
            "vitalises\n",
            "vitalising\n",
            "vitalism\n",
            "vitalisms\n",
            "vitalist\n",
            "vitalists\n",
            "vitalities\n",
            "vitality\n",
            "vitalize\n",
            "vitalized\n",
            "vitalizes\n",
            "vitalizing\n",
            "vitally\n",
            "vitamer\n",
            "vitamers\n",
            "vitamin\n",
            "vitamine\n",
            "vitamines\n",
            "vitamins\n",
            "vitellin\n",
            "vitellins\n",
            "vitellus\n",
            "vitelluses\n",
            "vitesse\n",
            "vitesses\n",
            "vitiable\n",
            "vitiate\n",
            "vitiated\n",
            "vitiates\n",
            "vitiating\n",
            "vitiation\n",
            "vitiations\n",
            "vitiator\n",
            "vitiators\n",
            "vitiligo\n",
            "vitiligos\n",
            "vitreous\n",
            "vitrification\n",
            "vitrifications\n",
            "vitrified\n",
            "vitrifies\n",
            "vitrify\n",
            "vitrifying\n",
            "vitrine\n",
            "vitrines\n",
            "vitriol\n",
            "vitrioled\n",
            "vitriolic\n",
            "vitrioling\n",
            "vitriolled\n",
            "vitriolling\n",
            "vitriols\n",
            "vittate\n",
            "vittled\n",
            "vittles\n",
            "vittling\n",
            "vituline\n",
            "vituperate\n",
            "vituperated\n",
            "vituperates\n",
            "vituperating\n",
            "vituperation\n",
            "vituperations\n",
            "vituperative\n",
            "vituperatively\n",
            "vivacious\n",
            "vivaciously\n",
            "vivaciousness\n",
            "vivaciousnesses\n",
            "vivacities\n",
            "vivacity\n",
            "vivaria\n",
            "vivaries\n",
            "vivarium\n",
            "vivariums\n",
            "viverrid\n",
            "viverrids\n",
            "vivider\n",
            "vividest\n",
            "vividly\n",
            "vividness\n",
            "vividnesses\n",
            "vivific\n",
            "vivified\n",
            "vivifier\n",
            "vivifiers\n",
            "vivifies\n",
            "vivifying\n",
            "vivipara\n",
            "vivisect\n",
            "vivisected\n",
            "vivisecting\n",
            "vivisection\n",
            "vivisections\n",
            "vivisects\n",
            "vixenish\n",
            "vixenly\n",
            "vizarded\n",
            "vizards\n",
            "vizcacha\n",
            "vizcachas\n",
            "viziers\n",
            "vizirate\n",
            "vizirates\n",
            "vizirial\n",
            "vizored\n",
            "vizoring\n",
            "vizslas\n",
            "vocable\n",
            "vocables\n",
            "vocably\n",
            "vocabularies\n",
            "vocabulary\n",
            "vocalic\n",
            "vocalics\n",
            "vocalise\n",
            "vocalised\n",
            "vocalises\n",
            "vocalising\n",
            "vocalism\n",
            "vocalisms\n",
            "vocalist\n",
            "vocalists\n",
            "vocalities\n",
            "vocality\n",
            "vocalize\n",
            "vocalized\n",
            "vocalizes\n",
            "vocalizing\n",
            "vocally\n",
            "vocation\n",
            "vocational\n",
            "vocations\n",
            "vocative\n",
            "vocatives\n",
            "vociferous\n",
            "vociferously\n",
            "vocoder\n",
            "vocoders\n",
            "voguish\n",
            "voiceful\n",
            "voicers\n",
            "voicing\n",
            "voidable\n",
            "voidance\n",
            "voidances\n",
            "voiders\n",
            "voiding\n",
            "voidness\n",
            "voidnesses\n",
            "volante\n",
            "volatile\n",
            "volatiles\n",
            "volatilities\n",
            "volatility\n",
            "volatilize\n",
            "volatilized\n",
            "volatilizes\n",
            "volatilizing\n",
            "volcanic\n",
            "volcanics\n",
            "volcano\n",
            "volcanoes\n",
            "volcanos\n",
            "voleries\n",
            "volitant\n",
            "volition\n",
            "volitional\n",
            "volitions\n",
            "volitive\n",
            "volleyball\n",
            "volleyballs\n",
            "volleyed\n",
            "volleyer\n",
            "volleyers\n",
            "volleying\n",
            "volleys\n",
            "volosts\n",
            "volplane\n",
            "volplaned\n",
            "volplanes\n",
            "volplaning\n",
            "voltage\n",
            "voltages\n",
            "voltaic\n",
            "voltaism\n",
            "voltaisms\n",
            "volubilities\n",
            "volubility\n",
            "voluble\n",
            "volubly\n",
            "volumed\n",
            "volumes\n",
            "voluming\n",
            "voluminous\n",
            "voluntarily\n",
            "voluntary\n",
            "volunteer\n",
            "volunteered\n",
            "volunteering\n",
            "volunteers\n",
            "voluptuous\n",
            "voluptuously\n",
            "voluptuousness\n",
            "voluptuousnesses\n",
            "voluted\n",
            "volutes\n",
            "volutin\n",
            "volutins\n",
            "volution\n",
            "volutions\n",
            "volvate\n",
            "volvoxes\n",
            "volvuli\n",
            "volvulus\n",
            "volvuluses\n",
            "vomerine\n",
            "vomicae\n",
            "vomited\n",
            "vomiter\n",
            "vomiters\n",
            "vomiting\n",
            "vomitive\n",
            "vomitives\n",
            "vomitories\n",
            "vomitory\n",
            "vomitos\n",
            "vomitous\n",
            "vomitus\n",
            "vomituses\n",
            "voodooed\n",
            "voodooing\n",
            "voodooism\n",
            "voodooisms\n",
            "voodoos\n",
            "voracious\n",
            "voraciously\n",
            "voraciousness\n",
            "voraciousnesses\n",
            "voracities\n",
            "voracity\n",
            "vorlage\n",
            "vorlages\n",
            "vortexes\n",
            "vortical\n",
            "vortices\n",
            "votable\n",
            "votaress\n",
            "votaresses\n",
            "votaries\n",
            "votarist\n",
            "votarists\n",
            "voteable\n",
            "voteless\n",
            "votively\n",
            "votress\n",
            "votresses\n",
            "vouched\n",
            "vouchee\n",
            "vouchees\n",
            "voucher\n",
            "vouchered\n",
            "vouchering\n",
            "vouchers\n",
            "vouches\n",
            "vouching\n",
            "vouchsafe\n",
            "vouchsafed\n",
            "vouchsafes\n",
            "vouchsafing\n",
            "voussoir\n",
            "voussoirs\n",
            "vowelize\n",
            "vowelized\n",
            "vowelizes\n",
            "vowelizing\n",
            "vowless\n",
            "voyaged\n",
            "voyager\n",
            "voyagers\n",
            "voyages\n",
            "voyageur\n",
            "voyageurs\n",
            "voyaging\n",
            "voyeurs\n",
            "vroomed\n",
            "vrooming\n",
            "vulcanic\n",
            "vulcanization\n",
            "vulcanizations\n",
            "vulcanize\n",
            "vulcanized\n",
            "vulcanizes\n",
            "vulcanizing\n",
            "vulgarer\n",
            "vulgarest\n",
            "vulgarism\n",
            "vulgarisms\n",
            "vulgarities\n",
            "vulgarity\n",
            "vulgarize\n",
            "vulgarized\n",
            "vulgarizes\n",
            "vulgarizing\n",
            "vulgarly\n",
            "vulgars\n",
            "vulgate\n",
            "vulgates\n",
            "vulguses\n",
            "vulnerabilities\n",
            "vulnerability\n",
            "vulnerable\n",
            "vulnerably\n",
            "vulpine\n",
            "vulture\n",
            "vultures\n",
            "vulvate\n",
            "vulvitis\n",
            "vulvitises\n",
            "vyingly\n",
            "wabbled\n",
            "wabbler\n",
            "wabblers\n",
            "wabbles\n",
            "wabblier\n",
            "wabbliest\n",
            "wabbling\n",
            "wackier\n",
            "wackiest\n",
            "wackily\n",
            "wadable\n",
            "wadders\n",
            "waddied\n",
            "waddies\n",
            "wadding\n",
            "waddings\n",
            "waddled\n",
            "waddler\n",
            "waddlers\n",
            "waddles\n",
            "waddling\n",
            "waddying\n",
            "wadeable\n",
            "wadmaal\n",
            "wadmaals\n",
            "wadmals\n",
            "wadmels\n",
            "wadmoll\n",
            "wadmolls\n",
            "wadmols\n",
            "wadsets\n",
            "wadsetted\n",
            "wadsetting\n",
            "waeness\n",
            "waenesses\n",
            "waesuck\n",
            "waesucks\n",
            "wafered\n",
            "wafering\n",
            "waffies\n",
            "waffing\n",
            "waffled\n",
            "waffles\n",
            "waffling\n",
            "waftage\n",
            "waftages\n",
            "wafters\n",
            "wafting\n",
            "wafture\n",
            "waftures\n",
            "wageless\n",
            "wagered\n",
            "wagerer\n",
            "wagerers\n",
            "wagering\n",
            "waggeries\n",
            "waggers\n",
            "waggery\n",
            "wagging\n",
            "waggish\n",
            "waggled\n",
            "waggles\n",
            "waggling\n",
            "waggoned\n",
            "waggoner\n",
            "waggoners\n",
            "waggoning\n",
            "waggons\n",
            "wagonage\n",
            "wagonages\n",
            "wagoned\n",
            "wagoner\n",
            "wagoners\n",
            "wagoning\n",
            "wagsome\n",
            "wagtail\n",
            "wagtails\n",
            "wahconda\n",
            "wahcondas\n",
            "wahines\n",
            "waifing\n",
            "wailers\n",
            "wailful\n",
            "wailing\n",
            "wailsome\n",
            "wainscot\n",
            "wainscoted\n",
            "wainscoting\n",
            "wainscots\n",
            "wainscotted\n",
            "wainscotting\n",
            "wairing\n",
            "waisted\n",
            "waister\n",
            "waisters\n",
            "waisting\n",
            "waistings\n",
            "waistline\n",
            "waistlines\n",
            "waiters\n",
            "waiting\n",
            "waitings\n",
            "waitress\n",
            "waitresses\n",
            "waivers\n",
            "waiving\n",
            "wakanda\n",
            "wakandas\n",
            "wakeful\n",
            "wakefulness\n",
            "wakefulnesses\n",
            "wakeless\n",
            "wakened\n",
            "wakener\n",
            "wakeners\n",
            "wakening\n",
            "wakenings\n",
            "wakerife\n",
            "wakikis\n",
            "walkable\n",
            "walkaway\n",
            "walkaways\n",
            "walkers\n",
            "walking\n",
            "walkings\n",
            "walkout\n",
            "walkouts\n",
            "walkover\n",
            "walkovers\n",
            "walkups\n",
            "walkway\n",
            "walkways\n",
            "walkyrie\n",
            "walkyries\n",
            "wallabies\n",
            "wallaby\n",
            "wallahs\n",
            "wallaroo\n",
            "wallaroos\n",
            "wallets\n",
            "walleye\n",
            "walleyed\n",
            "walleyes\n",
            "wallflower\n",
            "wallflowers\n",
            "wallies\n",
            "walling\n",
            "walloped\n",
            "walloper\n",
            "wallopers\n",
            "walloping\n",
            "wallops\n",
            "wallowed\n",
            "wallower\n",
            "wallowers\n",
            "wallowing\n",
            "wallows\n",
            "wallpaper\n",
            "wallpapered\n",
            "wallpapering\n",
            "wallpapers\n",
            "walnuts\n",
            "walruses\n",
            "waltzed\n",
            "waltzer\n",
            "waltzers\n",
            "waltzes\n",
            "waltzing\n",
            "wambled\n",
            "wambles\n",
            "wamblier\n",
            "wambliest\n",
            "wambling\n",
            "wamefou\n",
            "wamefous\n",
            "wameful\n",
            "wamefuls\n",
            "wammuses\n",
            "wampish\n",
            "wampished\n",
            "wampishes\n",
            "wampishing\n",
            "wampums\n",
            "wampuses\n",
            "wamuses\n",
            "wandered\n",
            "wanderer\n",
            "wanderers\n",
            "wandering\n",
            "wanderlust\n",
            "wanderlusts\n",
            "wanderoo\n",
            "wanderoos\n",
            "wanders\n",
            "wangans\n",
            "wangled\n",
            "wangler\n",
            "wanglers\n",
            "wangles\n",
            "wangling\n",
            "wanguns\n",
            "waniest\n",
            "wanigan\n",
            "wanigans\n",
            "wanions\n",
            "wanness\n",
            "wannesses\n",
            "wannest\n",
            "wannigan\n",
            "wannigans\n",
            "wanning\n",
            "wantage\n",
            "wantages\n",
            "wanters\n",
            "wanting\n",
            "wantoned\n",
            "wantoner\n",
            "wantoners\n",
            "wantoning\n",
            "wantonly\n",
            "wantonness\n",
            "wantonnesses\n",
            "wantons\n",
            "wapitis\n",
            "wapping\n",
            "warbled\n",
            "warbler\n",
            "warblers\n",
            "warbles\n",
            "warbling\n",
            "warcraft\n",
            "warcrafts\n",
            "wardenries\n",
            "wardenry\n",
            "wardens\n",
            "warders\n",
            "warding\n",
            "wardress\n",
            "wardresses\n",
            "wardrobe\n",
            "wardrobes\n",
            "wardroom\n",
            "wardrooms\n",
            "wardship\n",
            "wardships\n",
            "warehouse\n",
            "warehoused\n",
            "warehouseman\n",
            "warehousemen\n",
            "warehouser\n",
            "warehousers\n",
            "warehouses\n",
            "warehousing\n",
            "wareroom\n",
            "warerooms\n",
            "warfare\n",
            "warfares\n",
            "warfarin\n",
            "warfarins\n",
            "warhead\n",
            "warheads\n",
            "wariest\n",
            "wariness\n",
            "warinesses\n",
            "warison\n",
            "warisons\n",
            "warking\n",
            "warless\n",
            "warlike\n",
            "warlock\n",
            "warlocks\n",
            "warlord\n",
            "warlords\n",
            "warmaker\n",
            "warmakers\n",
            "warmers\n",
            "warmest\n",
            "warming\n",
            "warmish\n",
            "warmness\n",
            "warmnesses\n",
            "warmonger\n",
            "warmongers\n",
            "warmouth\n",
            "warmouths\n",
            "warmths\n",
            "warmups\n",
            "warners\n",
            "warning\n",
            "warnings\n",
            "warpage\n",
            "warpages\n",
            "warpath\n",
            "warpaths\n",
            "warpers\n",
            "warping\n",
            "warplane\n",
            "warplanes\n",
            "warpower\n",
            "warpowers\n",
            "warpwise\n",
            "warragal\n",
            "warragals\n",
            "warrant\n",
            "warranted\n",
            "warranties\n",
            "warranting\n",
            "warrants\n",
            "warranty\n",
            "warrener\n",
            "warreners\n",
            "warrens\n",
            "warrigal\n",
            "warrigals\n",
            "warring\n",
            "warrior\n",
            "warriors\n",
            "warsaws\n",
            "warship\n",
            "warships\n",
            "warsled\n",
            "warsler\n",
            "warslers\n",
            "warsles\n",
            "warsling\n",
            "warstle\n",
            "warstled\n",
            "warstler\n",
            "warstlers\n",
            "warstles\n",
            "warstling\n",
            "warthog\n",
            "warthogs\n",
            "wartier\n",
            "wartiest\n",
            "wartime\n",
            "wartimes\n",
            "wartlike\n",
            "warwork\n",
            "warworks\n",
            "warworn\n",
            "washable\n",
            "washboard\n",
            "washboards\n",
            "washbowl\n",
            "washbowls\n",
            "washcloth\n",
            "washcloths\n",
            "washday\n",
            "washdays\n",
            "washers\n",
            "washier\n",
            "washiest\n",
            "washing\n",
            "washings\n",
            "washington\n",
            "washout\n",
            "washouts\n",
            "washrag\n",
            "washrags\n",
            "washroom\n",
            "washrooms\n",
            "washtub\n",
            "washtubs\n",
            "waspier\n",
            "waspiest\n",
            "waspily\n",
            "waspish\n",
            "wasplike\n",
            "wassail\n",
            "wassailed\n",
            "wassailing\n",
            "wassails\n",
            "wastable\n",
            "wastage\n",
            "wastages\n",
            "wastebasket\n",
            "wastebaskets\n",
            "wasteful\n",
            "wastefully\n",
            "wastefulness\n",
            "wastefulnesses\n",
            "wasteland\n",
            "wastelands\n",
            "wastelot\n",
            "wastelots\n",
            "wasterie\n",
            "wasteries\n",
            "wasters\n",
            "wastery\n",
            "wasteway\n",
            "wasteways\n",
            "wasting\n",
            "wastrel\n",
            "wastrels\n",
            "wastrie\n",
            "wastries\n",
            "watapes\n",
            "watchcries\n",
            "watchcry\n",
            "watchdog\n",
            "watchdogged\n",
            "watchdogging\n",
            "watchdogs\n",
            "watched\n",
            "watcher\n",
            "watchers\n",
            "watches\n",
            "watcheye\n",
            "watcheyes\n",
            "watchful\n",
            "watchfully\n",
            "watchfulness\n",
            "watchfulnesses\n",
            "watching\n",
            "watchman\n",
            "watchmen\n",
            "watchout\n",
            "watchouts\n",
            "waterage\n",
            "waterages\n",
            "waterbed\n",
            "waterbeds\n",
            "watercolor\n",
            "watercolors\n",
            "watercourse\n",
            "watercourses\n",
            "watercress\n",
            "watercresses\n",
            "waterdog\n",
            "waterdogs\n",
            "watered\n",
            "waterer\n",
            "waterers\n",
            "waterfall\n",
            "waterfalls\n",
            "waterfowl\n",
            "waterfowls\n",
            "waterier\n",
            "wateriest\n",
            "waterily\n",
            "watering\n",
            "waterings\n",
            "waterish\n",
            "waterlog\n",
            "waterlogged\n",
            "waterlogging\n",
            "waterlogs\n",
            "waterloo\n",
            "waterloos\n",
            "waterman\n",
            "watermark\n",
            "watermarked\n",
            "watermarking\n",
            "watermarks\n",
            "watermelon\n",
            "watermelons\n",
            "watermen\n",
            "waterpower\n",
            "waterpowers\n",
            "waterproof\n",
            "waterproofed\n",
            "waterproofing\n",
            "waterproofings\n",
            "waterproofs\n",
            "waterspout\n",
            "waterspouts\n",
            "watertight\n",
            "waterway\n",
            "waterways\n",
            "waterworks\n",
            "wattage\n",
            "wattages\n",
            "wattape\n",
            "wattapes\n",
            "wattest\n",
            "watthour\n",
            "watthours\n",
            "wattled\n",
            "wattles\n",
            "wattless\n",
            "wattling\n",
            "wauchted\n",
            "wauchting\n",
            "wauchts\n",
            "waughted\n",
            "waughting\n",
            "waughts\n",
            "wauking\n",
            "wauling\n",
            "waveband\n",
            "wavebands\n",
            "waveform\n",
            "waveforms\n",
            "wavelength\n",
            "wavelengths\n",
            "waveless\n",
            "wavelet\n",
            "wavelets\n",
            "wavelike\n",
            "waveoff\n",
            "waveoffs\n",
            "wavered\n",
            "waverer\n",
            "waverers\n",
            "wavering\n",
            "waveringly\n",
            "waviest\n",
            "waviness\n",
            "wavinesses\n",
            "wawling\n",
            "waxberries\n",
            "waxberry\n",
            "waxbill\n",
            "waxbills\n",
            "waxiest\n",
            "waxiness\n",
            "waxinesses\n",
            "waxings\n",
            "waxlike\n",
            "waxplant\n",
            "waxplants\n",
            "waxweed\n",
            "waxweeds\n",
            "waxwing\n",
            "waxwings\n",
            "waxwork\n",
            "waxworks\n",
            "waxworm\n",
            "waxworms\n",
            "waybill\n",
            "waybills\n",
            "wayfarer\n",
            "wayfarers\n",
            "wayfaring\n",
            "waygoing\n",
            "waygoings\n",
            "waylaid\n",
            "waylayer\n",
            "waylayers\n",
            "waylaying\n",
            "waylays\n",
            "wayless\n",
            "wayside\n",
            "waysides\n",
            "wayward\n",
            "wayworn\n",
            "weakened\n",
            "weakener\n",
            "weakeners\n",
            "weakening\n",
            "weakens\n",
            "weakest\n",
            "weakfish\n",
            "weakfishes\n",
            "weakish\n",
            "weaklier\n",
            "weakliest\n",
            "weakling\n",
            "weaklings\n",
            "weakness\n",
            "weaknesses\n",
            "wealthier\n",
            "wealthiest\n",
            "wealths\n",
            "wealthy\n",
            "weaners\n",
            "weaning\n",
            "weanling\n",
            "weanlings\n",
            "weaponed\n",
            "weaponing\n",
            "weaponries\n",
            "weaponry\n",
            "weapons\n",
            "wearable\n",
            "wearables\n",
            "wearers\n",
            "wearied\n",
            "wearier\n",
            "wearies\n",
            "weariest\n",
            "weariful\n",
            "wearily\n",
            "weariness\n",
            "wearinesses\n",
            "wearing\n",
            "wearish\n",
            "wearisome\n",
            "wearying\n",
            "weasand\n",
            "weasands\n",
            "weaseled\n",
            "weaseling\n",
            "weasels\n",
            "weasons\n",
            "weather\n",
            "weathered\n",
            "weathering\n",
            "weatherman\n",
            "weathermen\n",
            "weatherproof\n",
            "weatherproofed\n",
            "weatherproofing\n",
            "weatherproofs\n",
            "weathers\n",
            "weavers\n",
            "weaving\n",
            "weazand\n",
            "weazands\n",
            "webbier\n",
            "webbiest\n",
            "webbing\n",
            "webbings\n",
            "webfeet\n",
            "webfoot\n",
            "webless\n",
            "weblike\n",
            "webster\n",
            "websters\n",
            "webworm\n",
            "webworms\n",
            "wedders\n",
            "wedding\n",
            "weddings\n",
            "wedeled\n",
            "wedeling\n",
            "wedelns\n",
            "wedgier\n",
            "wedgies\n",
            "wedgiest\n",
            "wedging\n",
            "wedlock\n",
            "wedlocks\n",
            "wednesday\n",
            "weeders\n",
            "weedier\n",
            "weediest\n",
            "weedily\n",
            "weeding\n",
            "weedless\n",
            "weedlike\n",
            "weekday\n",
            "weekdays\n",
            "weekend\n",
            "weekended\n",
            "weekending\n",
            "weekends\n",
            "weeklies\n",
            "weeklong\n",
            "weenier\n",
            "weenies\n",
            "weeniest\n",
            "weening\n",
            "weensier\n",
            "weensiest\n",
            "weepers\n",
            "weepier\n",
            "weepiest\n",
            "weeping\n",
            "weeting\n",
            "weevers\n",
            "weeviled\n",
            "weevilly\n",
            "weevils\n",
            "weevily\n",
            "weeweed\n",
            "weeweeing\n",
            "weewees\n",
            "weftwise\n",
            "weigela\n",
            "weigelas\n",
            "weigelia\n",
            "weigelias\n",
            "weighed\n",
            "weigher\n",
            "weighers\n",
            "weighing\n",
            "weighman\n",
            "weighmen\n",
            "weighted\n",
            "weighter\n",
            "weighters\n",
            "weightier\n",
            "weightiest\n",
            "weighting\n",
            "weightless\n",
            "weightlessness\n",
            "weightlessnesses\n",
            "weights\n",
            "weighty\n",
            "weiners\n",
            "weirder\n",
            "weirdest\n",
            "weirdie\n",
            "weirdies\n",
            "weirdly\n",
            "weirdness\n",
            "weirdnesses\n",
            "weirdoes\n",
            "weirdos\n",
            "welched\n",
            "welcher\n",
            "welchers\n",
            "welches\n",
            "welching\n",
            "welcome\n",
            "welcomed\n",
            "welcomer\n",
            "welcomers\n",
            "welcomes\n",
            "welcoming\n",
            "weldable\n",
            "welders\n",
            "welding\n",
            "weldless\n",
            "weldment\n",
            "weldments\n",
            "weldors\n",
            "welfare\n",
            "welfares\n",
            "welkins\n",
            "welladay\n",
            "welladays\n",
            "wellaway\n",
            "wellaways\n",
            "wellborn\n",
            "wellcurb\n",
            "wellcurbs\n",
            "welldoer\n",
            "welldoers\n",
            "wellesley\n",
            "wellhead\n",
            "wellheads\n",
            "wellhole\n",
            "wellholes\n",
            "welling\n",
            "wellness\n",
            "wellnesses\n",
            "wellsite\n",
            "wellsites\n",
            "wellspring\n",
            "wellsprings\n",
            "welshed\n",
            "welsher\n",
            "welshers\n",
            "welshes\n",
            "welshing\n",
            "weltered\n",
            "weltering\n",
            "welters\n",
            "welting\n",
            "wenched\n",
            "wencher\n",
            "wenchers\n",
            "wenches\n",
            "wenching\n",
            "wendigo\n",
            "wendigos\n",
            "wending\n",
            "wennier\n",
            "wenniest\n",
            "wennish\n",
            "weregild\n",
            "weregilds\n",
            "werewolf\n",
            "werewolves\n",
            "wergeld\n",
            "wergelds\n",
            "wergelt\n",
            "wergelts\n",
            "wergild\n",
            "wergilds\n",
            "werwolf\n",
            "werwolves\n",
            "weskits\n",
            "wessand\n",
            "wessands\n",
            "westered\n",
            "westering\n",
            "westerlies\n",
            "westerly\n",
            "western\n",
            "westerns\n",
            "westers\n",
            "westing\n",
            "westings\n",
            "westmost\n",
            "westward\n",
            "westwards\n",
            "wetback\n",
            "wetbacks\n",
            "wethers\n",
            "wetland\n",
            "wetlands\n",
            "wetness\n",
            "wetnesses\n",
            "wetproof\n",
            "wettable\n",
            "wetters\n",
            "wettest\n",
            "wetting\n",
            "wettings\n",
            "wettish\n",
            "whacked\n",
            "whacker\n",
            "whackers\n",
            "whackier\n",
            "whackiest\n",
            "whacking\n",
            "whalebone\n",
            "whalebones\n",
            "whaleman\n",
            "whalemen\n",
            "whalers\n",
            "whaling\n",
            "whalings\n",
            "whammed\n",
            "whammies\n",
            "whamming\n",
            "whanged\n",
            "whangee\n",
            "whangees\n",
            "whanging\n",
            "whapped\n",
            "whapper\n",
            "whappers\n",
            "whapping\n",
            "wharfage\n",
            "wharfages\n",
            "wharfed\n",
            "wharfing\n",
            "wharves\n",
            "whatever\n",
            "whatnot\n",
            "whatnots\n",
            "whatsoever\n",
            "wheatear\n",
            "wheatears\n",
            "wheaten\n",
            "wheedle\n",
            "wheedled\n",
            "wheedler\n",
            "wheedlers\n",
            "wheedles\n",
            "wheedling\n",
            "wheelbarrow\n",
            "wheelbarrows\n",
            "wheelbase\n",
            "wheelbases\n",
            "wheelchair\n",
            "wheelchairs\n",
            "wheeled\n",
            "wheeler\n",
            "wheelers\n",
            "wheelie\n",
            "wheelies\n",
            "wheeling\n",
            "wheelings\n",
            "wheelless\n",
            "wheelman\n",
            "wheelmen\n",
            "wheeped\n",
            "wheeping\n",
            "wheeple\n",
            "wheepled\n",
            "wheeples\n",
            "wheepling\n",
            "wheezed\n",
            "wheezer\n",
            "wheezers\n",
            "wheezes\n",
            "wheezier\n",
            "wheeziest\n",
            "wheezily\n",
            "wheezing\n",
            "whelkier\n",
            "whelkiest\n",
            "whelmed\n",
            "whelming\n",
            "whelped\n",
            "whelping\n",
            "whenever\n",
            "whereabouts\n",
            "whereas\n",
            "whereases\n",
            "whereat\n",
            "whereby\n",
            "wherefore\n",
            "wherein\n",
            "whereof\n",
            "whereon\n",
            "whereto\n",
            "whereupon\n",
            "wherever\n",
            "wherewithal\n",
            "wherried\n",
            "wherries\n",
            "wherrying\n",
            "wherves\n",
            "whether\n",
            "whetstone\n",
            "whetstones\n",
            "whetted\n",
            "whetter\n",
            "whetters\n",
            "whetting\n",
            "wheyface\n",
            "wheyfaces\n",
            "wheyish\n",
            "whichever\n",
            "whicker\n",
            "whickered\n",
            "whickering\n",
            "whickers\n",
            "whidahs\n",
            "whidded\n",
            "whidding\n",
            "whiffed\n",
            "whiffer\n",
            "whiffers\n",
            "whiffet\n",
            "whiffets\n",
            "whiffing\n",
            "whiffle\n",
            "whiffled\n",
            "whiffler\n",
            "whifflers\n",
            "whiffles\n",
            "whiffling\n",
            "whiling\n",
            "whimbrel\n",
            "whimbrels\n",
            "whimper\n",
            "whimpered\n",
            "whimpering\n",
            "whimpers\n",
            "whimsey\n",
            "whimseys\n",
            "whimsical\n",
            "whimsicalities\n",
            "whimsicality\n",
            "whimsically\n",
            "whimsied\n",
            "whimsies\n",
            "whinchat\n",
            "whinchats\n",
            "whiners\n",
            "whinier\n",
            "whiniest\n",
            "whining\n",
            "whinnied\n",
            "whinnier\n",
            "whinnies\n",
            "whinniest\n",
            "whinnying\n",
            "whipcord\n",
            "whipcords\n",
            "whiplash\n",
            "whiplashes\n",
            "whiplike\n",
            "whipped\n",
            "whipper\n",
            "whippers\n",
            "whippersnapper\n",
            "whippersnappers\n",
            "whippet\n",
            "whippets\n",
            "whippier\n",
            "whippiest\n",
            "whipping\n",
            "whippings\n",
            "whippoorwill\n",
            "whippoorwills\n",
            "whipray\n",
            "whiprays\n",
            "whipsaw\n",
            "whipsawed\n",
            "whipsawing\n",
            "whipsawn\n",
            "whipsaws\n",
            "whiptail\n",
            "whiptails\n",
            "whipworm\n",
            "whipworms\n",
            "whirled\n",
            "whirler\n",
            "whirlers\n",
            "whirlier\n",
            "whirlies\n",
            "whirliest\n",
            "whirling\n",
            "whirlpool\n",
            "whirlpools\n",
            "whirlwind\n",
            "whirlwinds\n",
            "whirred\n",
            "whirried\n",
            "whirries\n",
            "whirring\n",
            "whirrying\n",
            "whished\n",
            "whishes\n",
            "whishing\n",
            "whishted\n",
            "whishting\n",
            "whishts\n",
            "whisked\n",
            "whisker\n",
            "whiskered\n",
            "whiskers\n",
            "whiskery\n",
            "whiskey\n",
            "whiskeys\n",
            "whiskies\n",
            "whisking\n",
            "whisper\n",
            "whispered\n",
            "whispering\n",
            "whispers\n",
            "whispery\n",
            "whisted\n",
            "whisting\n",
            "whistle\n",
            "whistled\n",
            "whistler\n",
            "whistlers\n",
            "whistles\n",
            "whistling\n",
            "whitebait\n",
            "whitebaits\n",
            "whitecap\n",
            "whitecaps\n",
            "whitefish\n",
            "whitefishes\n",
            "whiteflies\n",
            "whitefly\n",
            "whitely\n",
            "whitened\n",
            "whitener\n",
            "whiteners\n",
            "whiteness\n",
            "whitenesses\n",
            "whitening\n",
            "whitens\n",
            "whiteout\n",
            "whiteouts\n",
            "whitest\n",
            "whitetail\n",
            "whitetails\n",
            "whitewash\n",
            "whitewashed\n",
            "whitewashes\n",
            "whitewashing\n",
            "whiteys\n",
            "whither\n",
            "whities\n",
            "whiting\n",
            "whitings\n",
            "whitish\n",
            "whitlow\n",
            "whitlows\n",
            "whitrack\n",
            "whitracks\n",
            "whitter\n",
            "whitters\n",
            "whittle\n",
            "whittled\n",
            "whittler\n",
            "whittlers\n",
            "whittles\n",
            "whittling\n",
            "whittret\n",
            "whittrets\n",
            "whizbang\n",
            "whizbangs\n",
            "whizzed\n",
            "whizzer\n",
            "whizzers\n",
            "whizzes\n",
            "whizzing\n",
            "whodunit\n",
            "whodunits\n",
            "whoever\n",
            "wholehearted\n",
            "wholeness\n",
            "wholenesses\n",
            "wholesale\n",
            "wholesaled\n",
            "wholesaler\n",
            "wholesalers\n",
            "wholesales\n",
            "wholesaling\n",
            "wholesome\n",
            "wholesomeness\n",
            "wholesomenesses\n",
            "wholism\n",
            "wholisms\n",
            "whomever\n",
            "whomped\n",
            "whomping\n",
            "whooped\n",
            "whoopee\n",
            "whoopees\n",
            "whooper\n",
            "whoopers\n",
            "whooping\n",
            "whoopla\n",
            "whooplas\n",
            "whooshed\n",
            "whooshes\n",
            "whooshing\n",
            "whoosis\n",
            "whoosises\n",
            "whopped\n",
            "whopper\n",
            "whoppers\n",
            "whopping\n",
            "whoredom\n",
            "whoredoms\n",
            "whoreson\n",
            "whoresons\n",
            "whoring\n",
            "whorish\n",
            "whorled\n",
            "whortle\n",
            "whortles\n",
            "whosever\n",
            "whosises\n",
            "whosoever\n",
            "whumped\n",
            "whumping\n",
            "whydahs\n",
            "wickape\n",
            "wickapes\n",
            "wickeder\n",
            "wickedest\n",
            "wickedly\n",
            "wickedness\n",
            "wickednesses\n",
            "wickers\n",
            "wickerwork\n",
            "wickerworks\n",
            "wickets\n",
            "wicking\n",
            "wickings\n",
            "wickiup\n",
            "wickiups\n",
            "wickyup\n",
            "wickyups\n",
            "wicopies\n",
            "widders\n",
            "widdies\n",
            "widdled\n",
            "widdles\n",
            "widdling\n",
            "widened\n",
            "widener\n",
            "wideners\n",
            "wideness\n",
            "widenesses\n",
            "widening\n",
            "widespread\n",
            "widgeon\n",
            "widgeons\n",
            "widgets\n",
            "widowed\n",
            "widower\n",
            "widowers\n",
            "widowhood\n",
            "widowhoods\n",
            "widowing\n",
            "widthway\n",
            "wielded\n",
            "wielder\n",
            "wielders\n",
            "wieldier\n",
            "wieldiest\n",
            "wielding\n",
            "wieners\n",
            "wienies\n",
            "wifedom\n",
            "wifedoms\n",
            "wifehood\n",
            "wifehoods\n",
            "wifeless\n",
            "wifelier\n",
            "wifeliest\n",
            "wifelike\n",
            "wigeons\n",
            "wiggeries\n",
            "wiggery\n",
            "wigging\n",
            "wiggings\n",
            "wiggled\n",
            "wiggler\n",
            "wigglers\n",
            "wiggles\n",
            "wigglier\n",
            "wiggliest\n",
            "wiggling\n",
            "wigless\n",
            "wiglets\n",
            "wiglike\n",
            "wigmaker\n",
            "wigmakers\n",
            "wigwagged\n",
            "wigwagging\n",
            "wigwags\n",
            "wigwams\n",
            "wikiups\n",
            "wildcat\n",
            "wildcats\n",
            "wildcatted\n",
            "wildcatting\n",
            "wildered\n",
            "wildering\n",
            "wilderness\n",
            "wildernesses\n",
            "wilders\n",
            "wildest\n",
            "wildfire\n",
            "wildfires\n",
            "wildfowl\n",
            "wildfowls\n",
            "wilding\n",
            "wildings\n",
            "wildish\n",
            "wildlife\n",
            "wildling\n",
            "wildlings\n",
            "wildness\n",
            "wildnesses\n",
            "wildwood\n",
            "wildwoods\n",
            "wilfully\n",
            "wiliest\n",
            "wiliness\n",
            "wilinesses\n",
            "willable\n",
            "willers\n",
            "willets\n",
            "willful\n",
            "willfully\n",
            "willied\n",
            "willies\n",
            "willing\n",
            "willinger\n",
            "willingest\n",
            "willingly\n",
            "willingness\n",
            "williwau\n",
            "williwaus\n",
            "williwaw\n",
            "williwaws\n",
            "willowed\n",
            "willower\n",
            "willowers\n",
            "willowier\n",
            "willowiest\n",
            "willowing\n",
            "willows\n",
            "willowy\n",
            "willpower\n",
            "willpowers\n",
            "willyard\n",
            "willyart\n",
            "willying\n",
            "willywaw\n",
            "willywaws\n",
            "wilting\n",
            "wimbled\n",
            "wimbles\n",
            "wimbling\n",
            "wimpled\n",
            "wimples\n",
            "wimpling\n",
            "wincers\n",
            "winceys\n",
            "winched\n",
            "wincher\n",
            "winchers\n",
            "winches\n",
            "winching\n",
            "wincing\n",
            "windable\n",
            "windage\n",
            "windages\n",
            "windbag\n",
            "windbags\n",
            "windbreak\n",
            "windbreaks\n",
            "windburn\n",
            "windburned\n",
            "windburning\n",
            "windburns\n",
            "windburnt\n",
            "winders\n",
            "windfall\n",
            "windfalls\n",
            "windflaw\n",
            "windflaws\n",
            "windgall\n",
            "windgalls\n",
            "windier\n",
            "windiest\n",
            "windigo\n",
            "windigos\n",
            "windily\n",
            "winding\n",
            "windings\n",
            "windlass\n",
            "windlassed\n",
            "windlasses\n",
            "windlassing\n",
            "windled\n",
            "windles\n",
            "windless\n",
            "windling\n",
            "windlings\n",
            "windmill\n",
            "windmilled\n",
            "windmilling\n",
            "windmills\n",
            "windowed\n",
            "windowing\n",
            "windowless\n",
            "windows\n",
            "windpipe\n",
            "windpipes\n",
            "windrow\n",
            "windrowed\n",
            "windrowing\n",
            "windrows\n",
            "windshield\n",
            "windshields\n",
            "windsock\n",
            "windsocks\n",
            "windups\n",
            "windward\n",
            "windwards\n",
            "windway\n",
            "windways\n",
            "wineless\n",
            "wineries\n",
            "wineshop\n",
            "wineshops\n",
            "wineskin\n",
            "wineskins\n",
            "winesop\n",
            "winesops\n",
            "wingback\n",
            "wingbacks\n",
            "wingbow\n",
            "wingbows\n",
            "wingding\n",
            "wingdings\n",
            "wingedly\n",
            "wingers\n",
            "wingier\n",
            "wingiest\n",
            "winging\n",
            "wingless\n",
            "winglet\n",
            "winglets\n",
            "winglike\n",
            "wingman\n",
            "wingmen\n",
            "wingover\n",
            "wingovers\n",
            "wingspan\n",
            "wingspans\n",
            "winiest\n",
            "winkers\n",
            "winking\n",
            "winkled\n",
            "winkles\n",
            "winkling\n",
            "winnable\n",
            "winners\n",
            "winning\n",
            "winnings\n",
            "winnock\n",
            "winnocks\n",
            "winnowed\n",
            "winnower\n",
            "winnowers\n",
            "winnowing\n",
            "winnows\n",
            "winsome\n",
            "winsomely\n",
            "winsomeness\n",
            "winsomenesses\n",
            "winsomer\n",
            "winsomest\n",
            "wintered\n",
            "winterer\n",
            "winterers\n",
            "wintergreen\n",
            "wintergreens\n",
            "winterier\n",
            "winteriest\n",
            "wintering\n",
            "winterly\n",
            "winters\n",
            "wintertime\n",
            "wintertimes\n",
            "wintery\n",
            "wintled\n",
            "wintles\n",
            "wintling\n",
            "wintrier\n",
            "wintriest\n",
            "wintrily\n",
            "wipeout\n",
            "wipeouts\n",
            "wirable\n",
            "wiredraw\n",
            "wiredrawing\n",
            "wiredrawn\n",
            "wiredraws\n",
            "wiredrew\n",
            "wirehair\n",
            "wirehairs\n",
            "wireless\n",
            "wirelessed\n",
            "wirelesses\n",
            "wirelessing\n",
            "wirelike\n",
            "wireman\n",
            "wiremen\n",
            "wiretap\n",
            "wiretapped\n",
            "wiretapper\n",
            "wiretappers\n",
            "wiretapping\n",
            "wiretaps\n",
            "wireway\n",
            "wireways\n",
            "wirework\n",
            "wireworks\n",
            "wireworm\n",
            "wireworms\n",
            "wiriest\n",
            "wiriness\n",
            "wirinesses\n",
            "wirings\n",
            "wisdoms\n",
            "wiseacre\n",
            "wiseacres\n",
            "wisecrack\n",
            "wisecracked\n",
            "wisecracking\n",
            "wisecracks\n",
            "wiselier\n",
            "wiseliest\n",
            "wiseness\n",
            "wisenesses\n",
            "wisents\n",
            "wishbone\n",
            "wishbones\n",
            "wishers\n",
            "wishful\n",
            "wishing\n",
            "wishless\n",
            "wispier\n",
            "wispiest\n",
            "wispily\n",
            "wisping\n",
            "wispish\n",
            "wisplike\n",
            "wissing\n",
            "wistaria\n",
            "wistarias\n",
            "wisteria\n",
            "wisterias\n",
            "wistful\n",
            "wistfully\n",
            "wistfulness\n",
            "wistfulnesses\n",
            "wisting\n",
            "witchcraft\n",
            "witchcrafts\n",
            "witched\n",
            "witcheries\n",
            "witchery\n",
            "witches\n",
            "witchier\n",
            "witchiest\n",
            "witching\n",
            "witchings\n",
            "withdraw\n",
            "withdrawal\n",
            "withdrawals\n",
            "withdrawing\n",
            "withdrawn\n",
            "withdraws\n",
            "withdrew\n",
            "withered\n",
            "witherer\n",
            "witherers\n",
            "withering\n",
            "withers\n",
            "withheld\n",
            "withhold\n",
            "withholding\n",
            "withholds\n",
            "withier\n",
            "withies\n",
            "withiest\n",
            "withing\n",
            "withins\n",
            "without\n",
            "withouts\n",
            "withstand\n",
            "withstanding\n",
            "withstands\n",
            "withstood\n",
            "witless\n",
            "witlessly\n",
            "witlessness\n",
            "witlessnesses\n",
            "witling\n",
            "witlings\n",
            "witloof\n",
            "witloofs\n",
            "witness\n",
            "witnessed\n",
            "witnesses\n",
            "witnessing\n",
            "witneys\n",
            "witticism\n",
            "witticisms\n",
            "wittier\n",
            "wittiest\n",
            "wittily\n",
            "wittiness\n",
            "wittinesses\n",
            "witting\n",
            "wittingly\n",
            "wittings\n",
            "wittols\n",
            "wiverns\n",
            "wizardly\n",
            "wizardries\n",
            "wizardry\n",
            "wizards\n",
            "wizened\n",
            "wizening\n",
            "wizzens\n",
            "woadwax\n",
            "woadwaxes\n",
            "wobbled\n",
            "wobbler\n",
            "wobblers\n",
            "wobbles\n",
            "wobblier\n",
            "wobblies\n",
            "wobbliest\n",
            "wobbling\n",
            "wobegone\n",
            "woebegone\n",
            "woefuller\n",
            "woefullest\n",
            "woefully\n",
            "woeness\n",
            "woenesses\n",
            "woesome\n",
            "wofully\n",
            "wolfers\n",
            "wolffish\n",
            "wolffishes\n",
            "wolfing\n",
            "wolfish\n",
            "wolflike\n",
            "wolfram\n",
            "wolframs\n",
            "wolverine\n",
            "wolverines\n",
            "wolvers\n",
            "womaned\n",
            "womanhood\n",
            "womanhoods\n",
            "womaning\n",
            "womanise\n",
            "womanised\n",
            "womanises\n",
            "womanish\n",
            "womanising\n",
            "womanize\n",
            "womanized\n",
            "womanizes\n",
            "womanizing\n",
            "womankind\n",
            "womankinds\n",
            "womanlier\n",
            "womanliest\n",
            "womanliness\n",
            "womanlinesses\n",
            "womanly\n",
            "wombats\n",
            "wombier\n",
            "wombiest\n",
            "womeras\n",
            "wommera\n",
            "wommeras\n",
            "wondered\n",
            "wonderer\n",
            "wonderers\n",
            "wonderful\n",
            "wonderfully\n",
            "wonderfulness\n",
            "wonderfulnesses\n",
            "wondering\n",
            "wonderland\n",
            "wonderlands\n",
            "wonderment\n",
            "wonderments\n",
            "wonders\n",
            "wonderwoman\n",
            "wondrous\n",
            "wondrously\n",
            "wondrousness\n",
            "wondrousnesses\n",
            "wonkier\n",
            "wonkiest\n",
            "wonners\n",
            "wonning\n",
            "wontedly\n",
            "wonting\n",
            "wontons\n",
            "woodbin\n",
            "woodbind\n",
            "woodbinds\n",
            "woodbine\n",
            "woodbines\n",
            "woodbins\n",
            "woodbox\n",
            "woodboxes\n",
            "woodchat\n",
            "woodchats\n",
            "woodchopper\n",
            "woodchoppers\n",
            "woodchuck\n",
            "woodchucks\n",
            "woodcock\n",
            "woodcocks\n",
            "woodcraft\n",
            "woodcrafts\n",
            "woodcut\n",
            "woodcuts\n",
            "woodener\n",
            "woodenest\n",
            "woodenly\n",
            "woodenness\n",
            "woodennesses\n",
            "woodhen\n",
            "woodhens\n",
            "woodier\n",
            "woodiest\n",
            "woodiness\n",
            "woodinesses\n",
            "wooding\n",
            "woodland\n",
            "woodlands\n",
            "woodlark\n",
            "woodlarks\n",
            "woodless\n",
            "woodlore\n",
            "woodlores\n",
            "woodlot\n",
            "woodlots\n",
            "woodman\n",
            "woodmen\n",
            "woodnote\n",
            "woodnotes\n",
            "woodpecker\n",
            "woodpeckers\n",
            "woodpile\n",
            "woodpiles\n",
            "woodruff\n",
            "woodruffs\n",
            "woodshed\n",
            "woodshedded\n",
            "woodshedding\n",
            "woodsheds\n",
            "woodsia\n",
            "woodsias\n",
            "woodsier\n",
            "woodsiest\n",
            "woodsman\n",
            "woodsmen\n",
            "woodwax\n",
            "woodwaxes\n",
            "woodwind\n",
            "woodwinds\n",
            "woodwork\n",
            "woodworks\n",
            "woodworm\n",
            "woodworms\n",
            "woofers\n",
            "woofing\n",
            "wooingly\n",
            "woolens\n",
            "woolers\n",
            "woolfell\n",
            "woolfells\n",
            "woolgathering\n",
            "woolgatherings\n",
            "woolier\n",
            "woolies\n",
            "wooliest\n",
            "woollen\n",
            "woollens\n",
            "woollier\n",
            "woollies\n",
            "woolliest\n",
            "woollike\n",
            "woolman\n",
            "woolmen\n",
            "woolpack\n",
            "woolpacks\n",
            "woolsack\n",
            "woolsacks\n",
            "woolshed\n",
            "woolsheds\n",
            "woolskin\n",
            "woolskins\n",
            "woomera\n",
            "woomeras\n",
            "woorali\n",
            "wooralis\n",
            "woorari\n",
            "wooraris\n",
            "wooshed\n",
            "wooshes\n",
            "wooshing\n",
            "woozier\n",
            "wooziest\n",
            "woozily\n",
            "wooziness\n",
            "woozinesses\n",
            "worcester\n",
            "wordage\n",
            "wordages\n",
            "wordbook\n",
            "wordbooks\n",
            "wordier\n",
            "wordiest\n",
            "wordily\n",
            "wordiness\n",
            "wordinesses\n",
            "wording\n",
            "wordings\n",
            "wordless\n",
            "wordplay\n",
            "wordplays\n",
            "workability\n",
            "workable\n",
            "workableness\n",
            "workablenesses\n",
            "workaday\n",
            "workbag\n",
            "workbags\n",
            "workbasket\n",
            "workbaskets\n",
            "workbench\n",
            "workbenches\n",
            "workboat\n",
            "workboats\n",
            "workbook\n",
            "workbooks\n",
            "workbox\n",
            "workboxes\n",
            "workday\n",
            "workdays\n",
            "workers\n",
            "workfolk\n",
            "workhorse\n",
            "workhorses\n",
            "workhouse\n",
            "workhouses\n",
            "working\n",
            "workingman\n",
            "workingmen\n",
            "workings\n",
            "workless\n",
            "workload\n",
            "workloads\n",
            "workman\n",
            "workmanlike\n",
            "workmanship\n",
            "workmanships\n",
            "workmen\n",
            "workout\n",
            "workouts\n",
            "workroom\n",
            "workrooms\n",
            "worksheet\n",
            "worksheets\n",
            "workshop\n",
            "workshops\n",
            "workups\n",
            "workweek\n",
            "workweeks\n",
            "worldlier\n",
            "worldliest\n",
            "worldliness\n",
            "worldlinesses\n",
            "worldly\n",
            "worldwide\n",
            "wormers\n",
            "wormhole\n",
            "wormholes\n",
            "wormier\n",
            "wormiest\n",
            "wormils\n",
            "worming\n",
            "wormish\n",
            "wormlike\n",
            "wormroot\n",
            "wormroots\n",
            "wormseed\n",
            "wormseeds\n",
            "wormwood\n",
            "wormwoods\n",
            "wornness\n",
            "wornnesses\n",
            "worried\n",
            "worrier\n",
            "worriers\n",
            "worries\n",
            "worrisome\n",
            "worrited\n",
            "worriting\n",
            "worrits\n",
            "worrying\n",
            "worsened\n",
            "worsening\n",
            "worsens\n",
            "worsets\n",
            "worship\n",
            "worshiped\n",
            "worshiper\n",
            "worshipers\n",
            "worshiping\n",
            "worshipped\n",
            "worshipper\n",
            "worshippers\n",
            "worshipping\n",
            "worships\n",
            "worsted\n",
            "worsteds\n",
            "worsting\n",
            "worthed\n",
            "worthful\n",
            "worthier\n",
            "worthies\n",
            "worthiest\n",
            "worthily\n",
            "worthiness\n",
            "worthinesses\n",
            "worthing\n",
            "worthless\n",
            "worthlessness\n",
            "worthlessnesses\n",
            "worthwhile\n",
            "wostteth\n",
            "wotteth\n",
            "wotting\n",
            "wouldest\n",
            "wouldst\n",
            "wounded\n",
            "wounding\n",
            "wowsers\n",
            "wracked\n",
            "wrackful\n",
            "wracking\n",
            "wraiths\n",
            "wrangle\n",
            "wrangled\n",
            "wrangler\n",
            "wranglers\n",
            "wrangles\n",
            "wrangling\n",
            "wrapped\n",
            "wrapper\n",
            "wrappers\n",
            "wrapping\n",
            "wrappings\n",
            "wrasses\n",
            "wrastle\n",
            "wrastled\n",
            "wrastles\n",
            "wrastling\n",
            "wrathed\n",
            "wrathful\n",
            "wrathier\n",
            "wrathiest\n",
            "wrathily\n",
            "wrathing\n",
            "wreaked\n",
            "wreaker\n",
            "wreakers\n",
            "wreaking\n",
            "wreathe\n",
            "wreathed\n",
            "wreathen\n",
            "wreathes\n",
            "wreathing\n",
            "wreaths\n",
            "wreathy\n",
            "wreckage\n",
            "wreckages\n",
            "wrecked\n",
            "wrecker\n",
            "wreckers\n",
            "wreckful\n",
            "wrecking\n",
            "wreckings\n",
            "wrenched\n",
            "wrenches\n",
            "wrenching\n",
            "wrested\n",
            "wrester\n",
            "wresters\n",
            "wresting\n",
            "wrestle\n",
            "wrestled\n",
            "wrestler\n",
            "wrestlers\n",
            "wrestles\n",
            "wrestling\n",
            "wretched\n",
            "wretcheder\n",
            "wretchedest\n",
            "wretchedness\n",
            "wretchednesses\n",
            "wretches\n",
            "wriggle\n",
            "wriggled\n",
            "wriggler\n",
            "wrigglers\n",
            "wriggles\n",
            "wrigglier\n",
            "wriggliest\n",
            "wriggling\n",
            "wriggly\n",
            "wrights\n",
            "wringed\n",
            "wringer\n",
            "wringers\n",
            "wringing\n",
            "wrinkle\n",
            "wrinkled\n",
            "wrinkles\n",
            "wrinklier\n",
            "wrinkliest\n",
            "wrinkling\n",
            "wrinkly\n",
            "wristier\n",
            "wristiest\n",
            "wristlet\n",
            "wristlets\n",
            "writable\n",
            "writers\n",
            "writhed\n",
            "writhen\n",
            "writher\n",
            "writhers\n",
            "writhes\n",
            "writhing\n",
            "writing\n",
            "writings\n",
            "written\n",
            "wrongdoer\n",
            "wrongdoers\n",
            "wrongdoing\n",
            "wrongdoings\n",
            "wronged\n",
            "wronger\n",
            "wrongers\n",
            "wrongest\n",
            "wrongful\n",
            "wrongfully\n",
            "wrongfulness\n",
            "wrongfulnesses\n",
            "wrongheaded\n",
            "wrongheadedly\n",
            "wrongheadedness\n",
            "wrongheadednesses\n",
            "wronging\n",
            "wrongly\n",
            "wrothful\n",
            "wrought\n",
            "wryneck\n",
            "wrynecks\n",
            "wryness\n",
            "wrynesses\n",
            "wurzels\n",
            "wyverns\n",
            "xanthate\n",
            "xanthates\n",
            "xanthein\n",
            "xantheins\n",
            "xanthene\n",
            "xanthenes\n",
            "xanthic\n",
            "xanthin\n",
            "xanthine\n",
            "xanthines\n",
            "xanthins\n",
            "xanthoma\n",
            "xanthomas\n",
            "xanthomata\n",
            "xanthone\n",
            "xanthones\n",
            "xanthous\n",
            "xenogamies\n",
            "xenogamy\n",
            "xenogenies\n",
            "xenogeny\n",
            "xenolith\n",
            "xenoliths\n",
            "xenophobe\n",
            "xenophobes\n",
            "xenophobia\n",
            "xerarch\n",
            "xerosere\n",
            "xeroseres\n",
            "xeroses\n",
            "xerosis\n",
            "xerotic\n",
            "xeruses\n",
            "xiphoid\n",
            "xiphoids\n",
            "xylenes\n",
            "xylidin\n",
            "xylidine\n",
            "xylidines\n",
            "xylidins\n",
            "xylocarp\n",
            "xylocarps\n",
            "xylophone\n",
            "xylophones\n",
            "xylophonist\n",
            "xylophonists\n",
            "xyloses\n",
            "xylotomies\n",
            "xylotomy\n",
            "xysters\n",
            "yabbered\n",
            "yabbering\n",
            "yabbers\n",
            "yachted\n",
            "yachter\n",
            "yachters\n",
            "yachting\n",
            "yachtings\n",
            "yachtman\n",
            "yachtmen\n",
            "yacking\n",
            "yaffing\n",
            "yahooism\n",
            "yahooisms\n",
            "yakking\n",
            "yammered\n",
            "yammerer\n",
            "yammerers\n",
            "yammering\n",
            "yammers\n",
            "yanking\n",
            "yanquis\n",
            "yapocks\n",
            "yappers\n",
            "yapping\n",
            "yardage\n",
            "yardages\n",
            "yardarm\n",
            "yardarms\n",
            "yardbird\n",
            "yardbirds\n",
            "yarding\n",
            "yardman\n",
            "yardmen\n",
            "yardstick\n",
            "yardsticks\n",
            "yardwand\n",
            "yardwands\n",
            "yarmelke\n",
            "yarmelkes\n",
            "yarmulke\n",
            "yarmulkes\n",
            "yarning\n",
            "yarrows\n",
            "yashmac\n",
            "yashmacs\n",
            "yashmak\n",
            "yashmaks\n",
            "yasmaks\n",
            "yatagan\n",
            "yatagans\n",
            "yataghan\n",
            "yataghans\n",
            "yaupers\n",
            "yauping\n",
            "yaupons\n",
            "yawling\n",
            "yawmeter\n",
            "yawmeters\n",
            "yawners\n",
            "yawning\n",
            "yawpers\n",
            "yawping\n",
            "yawpings\n",
            "ycleped\n",
            "yealing\n",
            "yealings\n",
            "yeaning\n",
            "yeanling\n",
            "yeanlings\n",
            "yearbook\n",
            "yearbooks\n",
            "yearlies\n",
            "yearling\n",
            "yearlings\n",
            "yearlong\n",
            "yearned\n",
            "yearner\n",
            "yearners\n",
            "yearning\n",
            "yearnings\n",
            "yeasted\n",
            "yeastier\n",
            "yeastiest\n",
            "yeastily\n",
            "yeasting\n",
            "yeelins\n",
            "yeggman\n",
            "yeggmen\n",
            "yellers\n",
            "yelling\n",
            "yellowed\n",
            "yellower\n",
            "yellowest\n",
            "yellowing\n",
            "yellowly\n",
            "yellows\n",
            "yellowy\n",
            "yelpers\n",
            "yelping\n",
            "yenning\n",
            "yeomanly\n",
            "yeomanries\n",
            "yeomanry\n",
            "yerking\n",
            "yeshiva\n",
            "yeshivah\n",
            "yeshivahs\n",
            "yeshivas\n",
            "yeshivoth\n",
            "yessing\n",
            "yesterday\n",
            "yesterdays\n",
            "yestern\n",
            "yestreen\n",
            "yestreens\n",
            "yeuking\n",
            "yielded\n",
            "yielder\n",
            "yielders\n",
            "yielding\n",
            "yippies\n",
            "yipping\n",
            "yirring\n",
            "yodeled\n",
            "yodeler\n",
            "yodelers\n",
            "yodeling\n",
            "yodelled\n",
            "yodeller\n",
            "yodellers\n",
            "yodelling\n",
            "yodlers\n",
            "yodling\n",
            "yoghourt\n",
            "yoghourts\n",
            "yoghurt\n",
            "yoghurts\n",
            "yoginis\n",
            "yogurts\n",
            "yokeless\n",
            "yokelish\n",
            "yokemate\n",
            "yokemates\n",
            "yolkier\n",
            "yolkiest\n",
            "yonkers\n",
            "younger\n",
            "youngers\n",
            "youngest\n",
            "youngish\n",
            "youngster\n",
            "youngsters\n",
            "younker\n",
            "younkers\n",
            "youpons\n",
            "yourself\n",
            "yourselves\n",
            "youthen\n",
            "youthened\n",
            "youthening\n",
            "youthens\n",
            "youthful\n",
            "youthfully\n",
            "youthfulness\n",
            "youthfulnesses\n",
            "yowlers\n",
            "yowling\n",
            "yperite\n",
            "yperites\n",
            "ytterbia\n",
            "ytterbias\n",
            "ytterbic\n",
            "yttrias\n",
            "yttrium\n",
            "yttriums\n",
            "yukking\n",
            "yuletide\n",
            "yuletides\n",
            "yummier\n",
            "yummies\n",
            "yummiest\n",
            "zabaione\n",
            "zabaiones\n",
            "zabajone\n",
            "zabajones\n",
            "zacaton\n",
            "zacatons\n",
            "zaddikim\n",
            "zaffars\n",
            "zaffers\n",
            "zaffirs\n",
            "zaffres\n",
            "zagging\n",
            "zaibatsu\n",
            "zamarra\n",
            "zamarras\n",
            "zamarro\n",
            "zamarros\n",
            "zamindar\n",
            "zamindars\n",
            "zananas\n",
            "zanders\n",
            "zaniest\n",
            "zaniness\n",
            "zaninesses\n",
            "zanyish\n",
            "zapateo\n",
            "zapateos\n",
            "zapping\n",
            "zaptiah\n",
            "zaptiahs\n",
            "zaptieh\n",
            "zaptiehs\n",
            "zaratite\n",
            "zaratites\n",
            "zarebas\n",
            "zareeba\n",
            "zareebas\n",
            "zaribas\n",
            "zarzuela\n",
            "zarzuelas\n",
            "zastruga\n",
            "zastrugi\n",
            "zealotries\n",
            "zealotry\n",
            "zealots\n",
            "zealous\n",
            "zealously\n",
            "zealousness\n",
            "zealousnesses\n",
            "zeatins\n",
            "zebecks\n",
            "zebraic\n",
            "zebrass\n",
            "zebrasses\n",
            "zebrine\n",
            "zebroid\n",
            "zecchin\n",
            "zecchini\n",
            "zecchino\n",
            "zecchinos\n",
            "zecchins\n",
            "zechins\n",
            "zedoaries\n",
            "zedoary\n",
            "zeitgeist\n",
            "zeitgeists\n",
            "zelkova\n",
            "zelkovas\n",
            "zemindar\n",
            "zemindars\n",
            "zemstvo\n",
            "zemstvos\n",
            "zenanas\n",
            "zenithal\n",
            "zeniths\n",
            "zeolite\n",
            "zeolites\n",
            "zeolitic\n",
            "zephyrs\n",
            "zeppelin\n",
            "zeppelins\n",
            "zeroing\n",
            "zestful\n",
            "zestfully\n",
            "zestfulness\n",
            "zestfulnesses\n",
            "zestier\n",
            "zestiest\n",
            "zesting\n",
            "zeugmas\n",
            "zibeline\n",
            "zibelines\n",
            "zibeths\n",
            "zigging\n",
            "ziggurat\n",
            "ziggurats\n",
            "zigzagged\n",
            "zigzagging\n",
            "zigzags\n",
            "zikkurat\n",
            "zikkurats\n",
            "zikurat\n",
            "zikurats\n",
            "zilches\n",
            "zillahs\n",
            "zillion\n",
            "zillions\n",
            "zincate\n",
            "zincates\n",
            "zincified\n",
            "zincifies\n",
            "zincify\n",
            "zincifying\n",
            "zincing\n",
            "zincite\n",
            "zincites\n",
            "zincked\n",
            "zincking\n",
            "zincoid\n",
            "zincous\n",
            "zingani\n",
            "zingano\n",
            "zingara\n",
            "zingare\n",
            "zingari\n",
            "zingaro\n",
            "zingier\n",
            "zingiest\n",
            "zinging\n",
            "zinkified\n",
            "zinkifies\n",
            "zinkify\n",
            "zinkifying\n",
            "zinnias\n",
            "zippered\n",
            "zippering\n",
            "zippers\n",
            "zippier\n",
            "zippiest\n",
            "zipping\n",
            "zirconia\n",
            "zirconias\n",
            "zirconic\n",
            "zirconium\n",
            "zirconiums\n",
            "zircons\n",
            "zithern\n",
            "zitherns\n",
            "zithers\n",
            "zizzled\n",
            "zizzles\n",
            "zizzling\n",
            "zoarial\n",
            "zoarium\n",
            "zodiacal\n",
            "zodiacs\n",
            "zoisite\n",
            "zoisites\n",
            "zombies\n",
            "zombiism\n",
            "zombiisms\n",
            "zonally\n",
            "zonated\n",
            "zonation\n",
            "zonations\n",
            "zoneless\n",
            "zonetime\n",
            "zonetimes\n",
            "zonulae\n",
            "zonular\n",
            "zonulas\n",
            "zonules\n",
            "zoochore\n",
            "zoochores\n",
            "zoogenic\n",
            "zooglea\n",
            "zoogleae\n",
            "zoogleal\n",
            "zoogleas\n",
            "zoogloea\n",
            "zoogloeae\n",
            "zoogloeas\n",
            "zooidal\n",
            "zoolater\n",
            "zoolaters\n",
            "zoolatries\n",
            "zoolatry\n",
            "zoologic\n",
            "zoological\n",
            "zoologies\n",
            "zoologist\n",
            "zoologists\n",
            "zoology\n",
            "zoomania\n",
            "zoomanias\n",
            "zoometries\n",
            "zoometry\n",
            "zooming\n",
            "zoomorph\n",
            "zoomorphs\n",
            "zoonoses\n",
            "zoonosis\n",
            "zoonotic\n",
            "zoophile\n",
            "zoophiles\n",
            "zoophyte\n",
            "zoophytes\n",
            "zoosperm\n",
            "zoosperms\n",
            "zoospore\n",
            "zoospores\n",
            "zootomic\n",
            "zootomies\n",
            "zootomy\n",
            "zorilla\n",
            "zorillas\n",
            "zorille\n",
            "zorilles\n",
            "zorillo\n",
            "zorillos\n",
            "zosters\n",
            "zouaves\n",
            "zoysias\n",
            "zucchini\n",
            "zucchinis\n",
            "zwieback\n",
            "zwiebacks\n",
            "zygomas\n",
            "zygomata\n",
            "zygoses\n",
            "zygosis\n",
            "zygosities\n",
            "zygosity\n",
            "zygotene\n",
            "zygotenes\n",
            "zygotes\n",
            "zygotic\n",
            "zymases\n",
            "zymogen\n",
            "zymogene\n",
            "zymogenes\n",
            "zymogens\n",
            "zymologies\n",
            "zymology\n",
            "zymoses\n",
            "zymosis\n",
            "zymotic\n",
            "zymurgies\n",
            "zymurgy\n"
          ]
        }
      ],
      "source": [
        "for word in word_list:\n",
        "    if len(word) >= 7 and is_palindrome(word):\n",
        "        print(word)"
      ]
    },
    {
      "cell_type": "markdown",
      "id": "11386f70",
      "metadata": {
        "id": "11386f70"
      },
      "source": [
        "### Exercise\n",
        "\n",
        "Write a function called `reverse_sentence` that takes as an argument a string that contains any number of words separated by spaces.\n",
        "It should return a new string that contains the same words in reverse order.\n",
        "For example, if the argument is \"Reverse this sentence\", the result should be \"Sentence this reverse\".\n",
        "\n",
        "Hint: You can use the `capitalize` methods to capitalize the first word and convert the other words to lowercase."
      ]
    },
    {
      "cell_type": "markdown",
      "id": "13882893",
      "metadata": {
        "tags": [],
        "id": "13882893"
      },
      "source": [
        "To get you started, here's an outline of the function with doctests."
      ]
    },
    {
      "cell_type": "code",
      "execution_count": null,
      "id": "d9b5b362",
      "metadata": {
        "tags": [],
        "id": "d9b5b362"
      },
      "outputs": [],
      "source": [
        "def reverse_sentence(input_string):\n",
        "    '''Reverse the words in a string and capitalize the first.\n",
        "\n",
        "    >>> reverse_sentence('Reverse this sentence')\n",
        "    'Sentence this reverse'\n",
        "\n",
        "    >>> reverse_sentence('Python')\n",
        "    'Python'\n",
        "\n",
        "    >>> reverse_sentence('')\n",
        "    ''\n",
        "\n",
        "    >>> reverse_sentence('One for all and all for one')\n",
        "    'One for all and all for one'\n",
        "    '''\n",
        "    words = input_string.split()\n",
        "    if len(words) <= 1:\n",
        "        return input_string\n",
        "\n",
        "\n",
        "    if input_string == ' '.join(words[::-1]):\n",
        "        return input_string\n",
        "\n",
        "    reversed_words = words[::-1]\n",
        "    reversed_words[0] = reversed_words[0].capitalize()\n",
        "\n",
        "    for i in range(1, len(reversed_words)):\n",
        "        reversed_words[i] = reversed_words[i].lower()\n",
        "\n",
        "    return ' '.join(reversed_words)"
      ]
    },
    {
      "cell_type": "code",
      "execution_count": null,
      "id": "769d1c7a",
      "metadata": {
        "tags": [],
        "id": "769d1c7a"
      },
      "outputs": [],
      "source": [
        "run_doctests(reverse_sentence)"
      ]
    },
    {
      "cell_type": "markdown",
      "id": "fb5f24b1",
      "metadata": {
        "id": "fb5f24b1"
      },
      "source": [
        "### Exercise\n",
        "\n",
        "Write a function called `total_length` that takes a list of strings and returns the total length of the strings.\n",
        "The total length of the words in `word_list` should be $902{,}728$."
      ]
    },
    {
      "cell_type": "code",
      "execution_count": null,
      "id": "1fba5377",
      "metadata": {
        "id": "1fba5377"
      },
      "outputs": [],
      "source": [
        "def total_length(list_of_strings):\n",
        "  total_len = 0\n",
        "  for string in list_of_strings:\n",
        "      total_len += len(string)\n",
        "\n",
        "\n",
        "  return total_len\n"
      ]
    },
    {
      "cell_type": "code",
      "execution_count": null,
      "id": "21f4cf1c",
      "metadata": {
        "id": "21f4cf1c"
      },
      "outputs": [],
      "source": [
        "# Solution goes here"
      ]
    },
    {
      "cell_type": "code",
      "execution_count": null,
      "id": "c3efb216",
      "metadata": {
        "id": "c3efb216"
      },
      "outputs": [],
      "source": []
    },
    {
      "cell_type": "markdown",
      "id": "a7f4edf8",
      "metadata": {
        "tags": [],
        "id": "a7f4edf8"
      },
      "source": [
        "[Think Python: 3rd Edition](https://allendowney.github.io/ThinkPython/index.html)\n",
        "\n",
        "Copyright 2024 [Allen B. Downey](https://allendowney.com)\n",
        "\n",
        "Code license: [MIT License](https://mit-license.org/)\n",
        "\n",
        "Text license: [Creative Commons Attribution-NonCommercial-ShareAlike 4.0 International](https://creativecommons.org/licenses/by-nc-sa/4.0/)"
      ]
    }
  ],
  "metadata": {
    "celltoolbar": "Tags",
    "kernelspec": {
      "display_name": "Python 3 (ipykernel)",
      "language": "python",
      "name": "python3"
    },
    "language_info": {
      "codemirror_mode": {
        "name": "ipython",
        "version": 3
      },
      "file_extension": ".py",
      "mimetype": "text/x-python",
      "name": "python",
      "nbconvert_exporter": "python",
      "pygments_lexer": "ipython3",
      "version": "3.10.11"
    },
    "colab": {
      "provenance": [],
      "include_colab_link": true
    }
  },
  "nbformat": 4,
  "nbformat_minor": 5
}